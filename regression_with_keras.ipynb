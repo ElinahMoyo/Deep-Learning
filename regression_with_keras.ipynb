{
 "cells": [
  {
   "cell_type": "code",
   "execution_count": 1,
   "id": "af963113",
   "metadata": {},
   "outputs": [
    {
     "name": "stdout",
     "output_type": "stream",
     "text": [
      "Requirement already satisfied: numpy in c:\\users\\user\\anaconda\\lib\\site-packages (1.26.1)\n",
      "Note: you may need to restart the kernel to use updated packages.\n"
     ]
    }
   ],
   "source": [
    "pip install numpy"
   ]
  },
  {
   "cell_type": "code",
   "execution_count": 2,
   "id": "0297a68f",
   "metadata": {},
   "outputs": [
    {
     "name": "stdout",
     "output_type": "stream",
     "text": [
      "Requirement already satisfied: keras in c:\\users\\user\\anaconda\\lib\\site-packages (2.14.0)Note: you may need to restart the kernel to use updated packages.\n",
      "\n"
     ]
    }
   ],
   "source": [
    "pip install keras\n"
   ]
  },
  {
   "cell_type": "code",
   "execution_count": 3,
   "id": "183496c7",
   "metadata": {},
   "outputs": [
    {
     "name": "stdout",
     "output_type": "stream",
     "text": [
      "Requirement already satisfied: pandas in c:\\users\\user\\anaconda\\lib\\site-packages (1.3.4)\n",
      "Requirement already satisfied: numpy>=1.17.3 in c:\\users\\user\\anaconda\\lib\\site-packages (from pandas) (1.26.1)\n",
      "Requirement already satisfied: python-dateutil>=2.7.3 in c:\\users\\user\\anaconda\\lib\\site-packages (from pandas) (2.8.2)\n",
      "Requirement already satisfied: pytz>=2017.3 in c:\\users\\user\\anaconda\\lib\\site-packages (from pandas) (2021.3)\n",
      "Requirement already satisfied: six>=1.5 in c:\\users\\user\\anaconda\\lib\\site-packages (from python-dateutil>=2.7.3->pandas) (1.16.0)\n",
      "Note: you may need to restart the kernel to use updated packages.\n"
     ]
    }
   ],
   "source": [
    "pip install pandas"
   ]
  },
  {
   "cell_type": "code",
   "execution_count": 2,
   "id": "1236c407",
   "metadata": {},
   "outputs": [],
   "source": [
    "import pandas as pd\n",
    "import numpy as np\n",
    "\n",
    "### the dataset im using link iro and thenThe dataset is about the compressive strength of different samples of concrete based on the volumes of the different ingredients that were used to make them\n"
   ]
  },
  {
   "cell_type": "code",
   "execution_count": 3,
   "id": "b58c87d0",
   "metadata": {},
   "outputs": [
    {
     "data": {
      "text/html": [
       "<div>\n",
       "<style scoped>\n",
       "    .dataframe tbody tr th:only-of-type {\n",
       "        vertical-align: middle;\n",
       "    }\n",
       "\n",
       "    .dataframe tbody tr th {\n",
       "        vertical-align: top;\n",
       "    }\n",
       "\n",
       "    .dataframe thead th {\n",
       "        text-align: right;\n",
       "    }\n",
       "</style>\n",
       "<table border=\"1\" class=\"dataframe\">\n",
       "  <thead>\n",
       "    <tr style=\"text-align: right;\">\n",
       "      <th></th>\n",
       "      <th>Cement</th>\n",
       "      <th>Blast Furnace Slag</th>\n",
       "      <th>Fly Ash</th>\n",
       "      <th>Water</th>\n",
       "      <th>Superplasticizer</th>\n",
       "      <th>Coarse Aggregate</th>\n",
       "      <th>Fine Aggregate</th>\n",
       "      <th>Age</th>\n",
       "      <th>Strength</th>\n",
       "    </tr>\n",
       "  </thead>\n",
       "  <tbody>\n",
       "    <tr>\n",
       "      <th>0</th>\n",
       "      <td>540.0</td>\n",
       "      <td>0.0</td>\n",
       "      <td>0.0</td>\n",
       "      <td>162.0</td>\n",
       "      <td>2.5</td>\n",
       "      <td>1040.0</td>\n",
       "      <td>676.0</td>\n",
       "      <td>28</td>\n",
       "      <td>79.99</td>\n",
       "    </tr>\n",
       "    <tr>\n",
       "      <th>1</th>\n",
       "      <td>540.0</td>\n",
       "      <td>0.0</td>\n",
       "      <td>0.0</td>\n",
       "      <td>162.0</td>\n",
       "      <td>2.5</td>\n",
       "      <td>1055.0</td>\n",
       "      <td>676.0</td>\n",
       "      <td>28</td>\n",
       "      <td>61.89</td>\n",
       "    </tr>\n",
       "    <tr>\n",
       "      <th>2</th>\n",
       "      <td>332.5</td>\n",
       "      <td>142.5</td>\n",
       "      <td>0.0</td>\n",
       "      <td>228.0</td>\n",
       "      <td>0.0</td>\n",
       "      <td>932.0</td>\n",
       "      <td>594.0</td>\n",
       "      <td>270</td>\n",
       "      <td>40.27</td>\n",
       "    </tr>\n",
       "    <tr>\n",
       "      <th>3</th>\n",
       "      <td>332.5</td>\n",
       "      <td>142.5</td>\n",
       "      <td>0.0</td>\n",
       "      <td>228.0</td>\n",
       "      <td>0.0</td>\n",
       "      <td>932.0</td>\n",
       "      <td>594.0</td>\n",
       "      <td>365</td>\n",
       "      <td>41.05</td>\n",
       "    </tr>\n",
       "    <tr>\n",
       "      <th>4</th>\n",
       "      <td>198.6</td>\n",
       "      <td>132.4</td>\n",
       "      <td>0.0</td>\n",
       "      <td>192.0</td>\n",
       "      <td>0.0</td>\n",
       "      <td>978.4</td>\n",
       "      <td>825.5</td>\n",
       "      <td>360</td>\n",
       "      <td>44.30</td>\n",
       "    </tr>\n",
       "  </tbody>\n",
       "</table>\n",
       "</div>"
      ],
      "text/plain": [
       "   Cement  Blast Furnace Slag  Fly Ash  Water  Superplasticizer  \\\n",
       "0   540.0                 0.0      0.0  162.0               2.5   \n",
       "1   540.0                 0.0      0.0  162.0               2.5   \n",
       "2   332.5               142.5      0.0  228.0               0.0   \n",
       "3   332.5               142.5      0.0  228.0               0.0   \n",
       "4   198.6               132.4      0.0  192.0               0.0   \n",
       "\n",
       "   Coarse Aggregate  Fine Aggregate  Age  Strength  \n",
       "0            1040.0           676.0   28     79.99  \n",
       "1            1055.0           676.0   28     61.89  \n",
       "2             932.0           594.0  270     40.27  \n",
       "3             932.0           594.0  365     41.05  \n",
       "4             978.4           825.5  360     44.30  "
      ]
     },
     "execution_count": 3,
     "metadata": {},
     "output_type": "execute_result"
    }
   ],
   "source": [
    "concrete_data = pd.read_csv('https://s3-api.us-geo.objectstorage.softlayer.net/cf-courses-data/CognitiveClass/DL0101EN/labs/data/concrete_data.csv')\n",
    "concrete_data.head()"
   ]
  },
  {
   "cell_type": "code",
   "execution_count": 4,
   "id": "dba98b68",
   "metadata": {},
   "outputs": [
    {
     "data": {
      "text/plain": [
       "(1030, 9)"
      ]
     },
     "execution_count": 4,
     "metadata": {},
     "output_type": "execute_result"
    }
   ],
   "source": [
    "concrete_data.shape"
   ]
  },
  {
   "cell_type": "code",
   "execution_count": 5,
   "id": "7ccbe80a",
   "metadata": {},
   "outputs": [
    {
     "data": {
      "text/html": [
       "<div>\n",
       "<style scoped>\n",
       "    .dataframe tbody tr th:only-of-type {\n",
       "        vertical-align: middle;\n",
       "    }\n",
       "\n",
       "    .dataframe tbody tr th {\n",
       "        vertical-align: top;\n",
       "    }\n",
       "\n",
       "    .dataframe thead th {\n",
       "        text-align: right;\n",
       "    }\n",
       "</style>\n",
       "<table border=\"1\" class=\"dataframe\">\n",
       "  <thead>\n",
       "    <tr style=\"text-align: right;\">\n",
       "      <th></th>\n",
       "      <th>Cement</th>\n",
       "      <th>Blast Furnace Slag</th>\n",
       "      <th>Fly Ash</th>\n",
       "      <th>Water</th>\n",
       "      <th>Superplasticizer</th>\n",
       "      <th>Coarse Aggregate</th>\n",
       "      <th>Fine Aggregate</th>\n",
       "      <th>Age</th>\n",
       "      <th>Strength</th>\n",
       "    </tr>\n",
       "  </thead>\n",
       "  <tbody>\n",
       "    <tr>\n",
       "      <th>count</th>\n",
       "      <td>1030.000000</td>\n",
       "      <td>1030.000000</td>\n",
       "      <td>1030.000000</td>\n",
       "      <td>1030.000000</td>\n",
       "      <td>1030.000000</td>\n",
       "      <td>1030.000000</td>\n",
       "      <td>1030.000000</td>\n",
       "      <td>1030.000000</td>\n",
       "      <td>1030.000000</td>\n",
       "    </tr>\n",
       "    <tr>\n",
       "      <th>mean</th>\n",
       "      <td>281.167864</td>\n",
       "      <td>73.895825</td>\n",
       "      <td>54.188350</td>\n",
       "      <td>181.567282</td>\n",
       "      <td>6.204660</td>\n",
       "      <td>972.918932</td>\n",
       "      <td>773.580485</td>\n",
       "      <td>45.662136</td>\n",
       "      <td>35.817961</td>\n",
       "    </tr>\n",
       "    <tr>\n",
       "      <th>std</th>\n",
       "      <td>104.506364</td>\n",
       "      <td>86.279342</td>\n",
       "      <td>63.997004</td>\n",
       "      <td>21.354219</td>\n",
       "      <td>5.973841</td>\n",
       "      <td>77.753954</td>\n",
       "      <td>80.175980</td>\n",
       "      <td>63.169912</td>\n",
       "      <td>16.705742</td>\n",
       "    </tr>\n",
       "    <tr>\n",
       "      <th>min</th>\n",
       "      <td>102.000000</td>\n",
       "      <td>0.000000</td>\n",
       "      <td>0.000000</td>\n",
       "      <td>121.800000</td>\n",
       "      <td>0.000000</td>\n",
       "      <td>801.000000</td>\n",
       "      <td>594.000000</td>\n",
       "      <td>1.000000</td>\n",
       "      <td>2.330000</td>\n",
       "    </tr>\n",
       "    <tr>\n",
       "      <th>25%</th>\n",
       "      <td>192.375000</td>\n",
       "      <td>0.000000</td>\n",
       "      <td>0.000000</td>\n",
       "      <td>164.900000</td>\n",
       "      <td>0.000000</td>\n",
       "      <td>932.000000</td>\n",
       "      <td>730.950000</td>\n",
       "      <td>7.000000</td>\n",
       "      <td>23.710000</td>\n",
       "    </tr>\n",
       "    <tr>\n",
       "      <th>50%</th>\n",
       "      <td>272.900000</td>\n",
       "      <td>22.000000</td>\n",
       "      <td>0.000000</td>\n",
       "      <td>185.000000</td>\n",
       "      <td>6.400000</td>\n",
       "      <td>968.000000</td>\n",
       "      <td>779.500000</td>\n",
       "      <td>28.000000</td>\n",
       "      <td>34.445000</td>\n",
       "    </tr>\n",
       "    <tr>\n",
       "      <th>75%</th>\n",
       "      <td>350.000000</td>\n",
       "      <td>142.950000</td>\n",
       "      <td>118.300000</td>\n",
       "      <td>192.000000</td>\n",
       "      <td>10.200000</td>\n",
       "      <td>1029.400000</td>\n",
       "      <td>824.000000</td>\n",
       "      <td>56.000000</td>\n",
       "      <td>46.135000</td>\n",
       "    </tr>\n",
       "    <tr>\n",
       "      <th>max</th>\n",
       "      <td>540.000000</td>\n",
       "      <td>359.400000</td>\n",
       "      <td>200.100000</td>\n",
       "      <td>247.000000</td>\n",
       "      <td>32.200000</td>\n",
       "      <td>1145.000000</td>\n",
       "      <td>992.600000</td>\n",
       "      <td>365.000000</td>\n",
       "      <td>82.600000</td>\n",
       "    </tr>\n",
       "  </tbody>\n",
       "</table>\n",
       "</div>"
      ],
      "text/plain": [
       "            Cement  Blast Furnace Slag      Fly Ash        Water  \\\n",
       "count  1030.000000         1030.000000  1030.000000  1030.000000   \n",
       "mean    281.167864           73.895825    54.188350   181.567282   \n",
       "std     104.506364           86.279342    63.997004    21.354219   \n",
       "min     102.000000            0.000000     0.000000   121.800000   \n",
       "25%     192.375000            0.000000     0.000000   164.900000   \n",
       "50%     272.900000           22.000000     0.000000   185.000000   \n",
       "75%     350.000000          142.950000   118.300000   192.000000   \n",
       "max     540.000000          359.400000   200.100000   247.000000   \n",
       "\n",
       "       Superplasticizer  Coarse Aggregate  Fine Aggregate          Age  \\\n",
       "count       1030.000000       1030.000000     1030.000000  1030.000000   \n",
       "mean           6.204660        972.918932      773.580485    45.662136   \n",
       "std            5.973841         77.753954       80.175980    63.169912   \n",
       "min            0.000000        801.000000      594.000000     1.000000   \n",
       "25%            0.000000        932.000000      730.950000     7.000000   \n",
       "50%            6.400000        968.000000      779.500000    28.000000   \n",
       "75%           10.200000       1029.400000      824.000000    56.000000   \n",
       "max           32.200000       1145.000000      992.600000   365.000000   \n",
       "\n",
       "          Strength  \n",
       "count  1030.000000  \n",
       "mean     35.817961  \n",
       "std      16.705742  \n",
       "min       2.330000  \n",
       "25%      23.710000  \n",
       "50%      34.445000  \n",
       "75%      46.135000  \n",
       "max      82.600000  "
      ]
     },
     "execution_count": 5,
     "metadata": {},
     "output_type": "execute_result"
    }
   ],
   "source": [
    "concrete_data.describe()"
   ]
  },
  {
   "cell_type": "code",
   "execution_count": 6,
   "id": "ee90e335",
   "metadata": {},
   "outputs": [
    {
     "data": {
      "text/plain": [
       "Cement                0\n",
       "Blast Furnace Slag    0\n",
       "Fly Ash               0\n",
       "Water                 0\n",
       "Superplasticizer      0\n",
       "Coarse Aggregate      0\n",
       "Fine Aggregate        0\n",
       "Age                   0\n",
       "Strength              0\n",
       "dtype: int64"
      ]
     },
     "execution_count": 6,
     "metadata": {},
     "output_type": "execute_result"
    }
   ],
   "source": [
    "## checking missing values\n",
    "\n",
    "concrete_data.isnull().sum()"
   ]
  },
  {
   "cell_type": "code",
   "execution_count": null,
   "id": "c68dae91",
   "metadata": {},
   "outputs": [],
   "source": []
  },
  {
   "cell_type": "markdown",
   "id": "c4f9bdee",
   "metadata": {},
   "source": [
    "# split data into predictors and targets\n",
    "#The target variable in this problem is the concrete sample strength. Therefore, our predictors will be all the other columns."
   ]
  },
  {
   "cell_type": "code",
   "execution_count": 11,
   "id": "2ac8f509",
   "metadata": {},
   "outputs": [
    {
     "ename": "ValueError",
     "evalue": "Item wrong length 9 instead of 1030.",
     "output_type": "error",
     "traceback": [
      "\u001b[1;31m---------------------------------------------------------------------------\u001b[0m",
      "\u001b[1;31mValueError\u001b[0m                                Traceback (most recent call last)",
      "\u001b[1;32m~\\AppData\\Local\\Temp/ipykernel_18228/2924246673.py\u001b[0m in \u001b[0;36m<module>\u001b[1;34m\u001b[0m\n\u001b[0;32m      2\u001b[0m \u001b[0mconcrete_data_columns\u001b[0m \u001b[1;33m=\u001b[0m \u001b[0mconcrete_data\u001b[0m\u001b[1;33m.\u001b[0m\u001b[0mcolumns\u001b[0m\u001b[1;33m\u001b[0m\u001b[1;33m\u001b[0m\u001b[0m\n\u001b[0;32m      3\u001b[0m \u001b[1;33m\u001b[0m\u001b[0m\n\u001b[1;32m----> 4\u001b[1;33m \u001b[0mpredictors\u001b[0m \u001b[1;33m=\u001b[0m \u001b[0mconcrete_data\u001b[0m\u001b[1;33m[\u001b[0m\u001b[0mconcrete_data_columns\u001b[0m \u001b[1;33m!=\u001b[0m \u001b[1;34m\"Strength\"\u001b[0m\u001b[1;33m]\u001b[0m \u001b[1;31m#all columns except strength one\u001b[0m\u001b[1;33m\u001b[0m\u001b[1;33m\u001b[0m\u001b[0m\n\u001b[0m",
      "\u001b[1;32m~\\anaconda\\lib\\site-packages\\pandas\\core\\frame.py\u001b[0m in \u001b[0;36m__getitem__\u001b[1;34m(self, key)\u001b[0m\n\u001b[0;32m   3447\u001b[0m         \u001b[1;31m# Do we have a (boolean) 1d indexer?\u001b[0m\u001b[1;33m\u001b[0m\u001b[1;33m\u001b[0m\u001b[0m\n\u001b[0;32m   3448\u001b[0m         \u001b[1;32mif\u001b[0m \u001b[0mcom\u001b[0m\u001b[1;33m.\u001b[0m\u001b[0mis_bool_indexer\u001b[0m\u001b[1;33m(\u001b[0m\u001b[0mkey\u001b[0m\u001b[1;33m)\u001b[0m\u001b[1;33m:\u001b[0m\u001b[1;33m\u001b[0m\u001b[1;33m\u001b[0m\u001b[0m\n\u001b[1;32m-> 3449\u001b[1;33m             \u001b[1;32mreturn\u001b[0m \u001b[0mself\u001b[0m\u001b[1;33m.\u001b[0m\u001b[0m_getitem_bool_array\u001b[0m\u001b[1;33m(\u001b[0m\u001b[0mkey\u001b[0m\u001b[1;33m)\u001b[0m\u001b[1;33m\u001b[0m\u001b[1;33m\u001b[0m\u001b[0m\n\u001b[0m\u001b[0;32m   3450\u001b[0m \u001b[1;33m\u001b[0m\u001b[0m\n\u001b[0;32m   3451\u001b[0m         \u001b[1;31m# We are left with two options: a single key, and a collection of keys,\u001b[0m\u001b[1;33m\u001b[0m\u001b[1;33m\u001b[0m\u001b[0m\n",
      "\u001b[1;32m~\\anaconda\\lib\\site-packages\\pandas\\core\\frame.py\u001b[0m in \u001b[0;36m_getitem_bool_array\u001b[1;34m(self, key)\u001b[0m\n\u001b[0;32m   3494\u001b[0m             )\n\u001b[0;32m   3495\u001b[0m         \u001b[1;32melif\u001b[0m \u001b[0mlen\u001b[0m\u001b[1;33m(\u001b[0m\u001b[0mkey\u001b[0m\u001b[1;33m)\u001b[0m \u001b[1;33m!=\u001b[0m \u001b[0mlen\u001b[0m\u001b[1;33m(\u001b[0m\u001b[0mself\u001b[0m\u001b[1;33m.\u001b[0m\u001b[0mindex\u001b[0m\u001b[1;33m)\u001b[0m\u001b[1;33m:\u001b[0m\u001b[1;33m\u001b[0m\u001b[1;33m\u001b[0m\u001b[0m\n\u001b[1;32m-> 3496\u001b[1;33m             raise ValueError(\n\u001b[0m\u001b[0;32m   3497\u001b[0m                 \u001b[1;34mf\"Item wrong length {len(key)} instead of {len(self.index)}.\"\u001b[0m\u001b[1;33m\u001b[0m\u001b[1;33m\u001b[0m\u001b[0m\n\u001b[0;32m   3498\u001b[0m             )\n",
      "\u001b[1;31mValueError\u001b[0m: Item wrong length 9 instead of 1030."
     ]
    }
   ],
   "source": [
    "target = concrete_data['Strength']#strength column\n",
    "concrete_data_columns = concrete_data.columns \n",
    "\n",
    "predictors = concrete_data[concrete_data_columns != \"Strength\"] #all columns except strength one"
   ]
  },
  {
   "cell_type": "code",
   "execution_count": 10,
   "id": "174e1645",
   "metadata": {},
   "outputs": [
    {
     "data": {
      "text/html": [
       "<div>\n",
       "<style scoped>\n",
       "    .dataframe tbody tr th:only-of-type {\n",
       "        vertical-align: middle;\n",
       "    }\n",
       "\n",
       "    .dataframe tbody tr th {\n",
       "        vertical-align: top;\n",
       "    }\n",
       "\n",
       "    .dataframe thead th {\n",
       "        text-align: right;\n",
       "    }\n",
       "</style>\n",
       "<table border=\"1\" class=\"dataframe\">\n",
       "  <thead>\n",
       "    <tr style=\"text-align: right;\">\n",
       "      <th></th>\n",
       "      <th>Cement</th>\n",
       "      <th>Blast Furnace Slag</th>\n",
       "      <th>Fly Ash</th>\n",
       "      <th>Water</th>\n",
       "      <th>Superplasticizer</th>\n",
       "      <th>Coarse Aggregate</th>\n",
       "      <th>Fine Aggregate</th>\n",
       "      <th>Age</th>\n",
       "    </tr>\n",
       "  </thead>\n",
       "  <tbody>\n",
       "    <tr>\n",
       "      <th>0</th>\n",
       "      <td>540.0</td>\n",
       "      <td>0.0</td>\n",
       "      <td>0.0</td>\n",
       "      <td>162.0</td>\n",
       "      <td>2.5</td>\n",
       "      <td>1040.0</td>\n",
       "      <td>676.0</td>\n",
       "      <td>28</td>\n",
       "    </tr>\n",
       "    <tr>\n",
       "      <th>1</th>\n",
       "      <td>540.0</td>\n",
       "      <td>0.0</td>\n",
       "      <td>0.0</td>\n",
       "      <td>162.0</td>\n",
       "      <td>2.5</td>\n",
       "      <td>1055.0</td>\n",
       "      <td>676.0</td>\n",
       "      <td>28</td>\n",
       "    </tr>\n",
       "    <tr>\n",
       "      <th>2</th>\n",
       "      <td>332.5</td>\n",
       "      <td>142.5</td>\n",
       "      <td>0.0</td>\n",
       "      <td>228.0</td>\n",
       "      <td>0.0</td>\n",
       "      <td>932.0</td>\n",
       "      <td>594.0</td>\n",
       "      <td>270</td>\n",
       "    </tr>\n",
       "    <tr>\n",
       "      <th>3</th>\n",
       "      <td>332.5</td>\n",
       "      <td>142.5</td>\n",
       "      <td>0.0</td>\n",
       "      <td>228.0</td>\n",
       "      <td>0.0</td>\n",
       "      <td>932.0</td>\n",
       "      <td>594.0</td>\n",
       "      <td>365</td>\n",
       "    </tr>\n",
       "    <tr>\n",
       "      <th>4</th>\n",
       "      <td>198.6</td>\n",
       "      <td>132.4</td>\n",
       "      <td>0.0</td>\n",
       "      <td>192.0</td>\n",
       "      <td>0.0</td>\n",
       "      <td>978.4</td>\n",
       "      <td>825.5</td>\n",
       "      <td>360</td>\n",
       "    </tr>\n",
       "  </tbody>\n",
       "</table>\n",
       "</div>"
      ],
      "text/plain": [
       "   Cement  Blast Furnace Slag  Fly Ash  Water  Superplasticizer  \\\n",
       "0   540.0                 0.0      0.0  162.0               2.5   \n",
       "1   540.0                 0.0      0.0  162.0               2.5   \n",
       "2   332.5               142.5      0.0  228.0               0.0   \n",
       "3   332.5               142.5      0.0  228.0               0.0   \n",
       "4   198.6               132.4      0.0  192.0               0.0   \n",
       "\n",
       "   Coarse Aggregate  Fine Aggregate  Age  \n",
       "0            1040.0           676.0   28  \n",
       "1            1055.0           676.0   28  \n",
       "2             932.0           594.0  270  \n",
       "3             932.0           594.0  365  \n",
       "4             978.4           825.5  360  "
      ]
     },
     "execution_count": 10,
     "metadata": {},
     "output_type": "execute_result"
    }
   ],
   "source": [
    "predictors.head()"
   ]
  },
  {
   "cell_type": "code",
   "execution_count": 43,
   "id": "69315f0a",
   "metadata": {},
   "outputs": [
    {
     "data": {
      "text/plain": [
       "0    79.99\n",
       "1    61.89\n",
       "2    40.27\n",
       "3    41.05\n",
       "4    44.30\n",
       "Name: Strength, dtype: float64"
      ]
     },
     "execution_count": 43,
     "metadata": {},
     "output_type": "execute_result"
    }
   ],
   "source": [
    "target.head()"
   ]
  },
  {
   "cell_type": "code",
   "execution_count": 44,
   "id": "6ee29d94",
   "metadata": {},
   "outputs": [],
   "source": [
    "#Finally, the last step is to normalize the data by substracting the mean and dividing by the standard deviation.\n",
    "\n",
    "predictors_norm = (predictors-predictors.mean()) /predictors.std()"
   ]
  },
  {
   "cell_type": "code",
   "execution_count": 45,
   "id": "566ec66e",
   "metadata": {},
   "outputs": [
    {
     "data": {
      "text/html": [
       "<div>\n",
       "<style scoped>\n",
       "    .dataframe tbody tr th:only-of-type {\n",
       "        vertical-align: middle;\n",
       "    }\n",
       "\n",
       "    .dataframe tbody tr th {\n",
       "        vertical-align: top;\n",
       "    }\n",
       "\n",
       "    .dataframe thead th {\n",
       "        text-align: right;\n",
       "    }\n",
       "</style>\n",
       "<table border=\"1\" class=\"dataframe\">\n",
       "  <thead>\n",
       "    <tr style=\"text-align: right;\">\n",
       "      <th></th>\n",
       "      <th>Cement</th>\n",
       "      <th>Blast Furnace Slag</th>\n",
       "      <th>Fly Ash</th>\n",
       "      <th>Water</th>\n",
       "      <th>Superplasticizer</th>\n",
       "      <th>Coarse Aggregate</th>\n",
       "      <th>Fine Aggregate</th>\n",
       "      <th>Age</th>\n",
       "    </tr>\n",
       "  </thead>\n",
       "  <tbody>\n",
       "    <tr>\n",
       "      <th>0</th>\n",
       "      <td>2.476712</td>\n",
       "      <td>-0.856472</td>\n",
       "      <td>-0.846733</td>\n",
       "      <td>-0.916319</td>\n",
       "      <td>-0.620147</td>\n",
       "      <td>0.862735</td>\n",
       "      <td>-1.217079</td>\n",
       "      <td>-0.279597</td>\n",
       "    </tr>\n",
       "    <tr>\n",
       "      <th>1</th>\n",
       "      <td>2.476712</td>\n",
       "      <td>-0.856472</td>\n",
       "      <td>-0.846733</td>\n",
       "      <td>-0.916319</td>\n",
       "      <td>-0.620147</td>\n",
       "      <td>1.055651</td>\n",
       "      <td>-1.217079</td>\n",
       "      <td>-0.279597</td>\n",
       "    </tr>\n",
       "    <tr>\n",
       "      <th>2</th>\n",
       "      <td>0.491187</td>\n",
       "      <td>0.795140</td>\n",
       "      <td>-0.846733</td>\n",
       "      <td>2.174405</td>\n",
       "      <td>-1.038638</td>\n",
       "      <td>-0.526262</td>\n",
       "      <td>-2.239829</td>\n",
       "      <td>3.551340</td>\n",
       "    </tr>\n",
       "    <tr>\n",
       "      <th>3</th>\n",
       "      <td>0.491187</td>\n",
       "      <td>0.795140</td>\n",
       "      <td>-0.846733</td>\n",
       "      <td>2.174405</td>\n",
       "      <td>-1.038638</td>\n",
       "      <td>-0.526262</td>\n",
       "      <td>-2.239829</td>\n",
       "      <td>5.055221</td>\n",
       "    </tr>\n",
       "    <tr>\n",
       "      <th>4</th>\n",
       "      <td>-0.790075</td>\n",
       "      <td>0.678079</td>\n",
       "      <td>-0.846733</td>\n",
       "      <td>0.488555</td>\n",
       "      <td>-1.038638</td>\n",
       "      <td>0.070492</td>\n",
       "      <td>0.647569</td>\n",
       "      <td>4.976069</td>\n",
       "    </tr>\n",
       "  </tbody>\n",
       "</table>\n",
       "</div>"
      ],
      "text/plain": [
       "     Cement  Blast Furnace Slag   Fly Ash     Water  Superplasticizer  \\\n",
       "0  2.476712           -0.856472 -0.846733 -0.916319         -0.620147   \n",
       "1  2.476712           -0.856472 -0.846733 -0.916319         -0.620147   \n",
       "2  0.491187            0.795140 -0.846733  2.174405         -1.038638   \n",
       "3  0.491187            0.795140 -0.846733  2.174405         -1.038638   \n",
       "4 -0.790075            0.678079 -0.846733  0.488555         -1.038638   \n",
       "\n",
       "   Coarse Aggregate  Fine Aggregate       Age  \n",
       "0          0.862735       -1.217079 -0.279597  \n",
       "1          1.055651       -1.217079 -0.279597  \n",
       "2         -0.526262       -2.239829  3.551340  \n",
       "3         -0.526262       -2.239829  5.055221  \n",
       "4          0.070492        0.647569  4.976069  "
      ]
     },
     "execution_count": 45,
     "metadata": {},
     "output_type": "execute_result"
    }
   ],
   "source": [
    "predictors_norm.head()"
   ]
  },
  {
   "cell_type": "code",
   "execution_count": 46,
   "id": "5e4ed74a",
   "metadata": {},
   "outputs": [],
   "source": [
    "#Let's save the number of predictors to n_cols since we will need this number when building our network.\n",
    "n_cols = predictors_norm.shape[1]#number of predictors"
   ]
  },
  {
   "cell_type": "code",
   "execution_count": 47,
   "id": "41b88e6b",
   "metadata": {},
   "outputs": [
    {
     "name": "stdout",
     "output_type": "stream",
     "text": [
      "Requirement already satisfied: tensorflow in c:\\users\\user\\anaconda\\lib\\site-packages (2.14.0)\n",
      "Requirement already satisfied: tensorflow-intel==2.14.0 in c:\\users\\user\\anaconda\\lib\\site-packages (from tensorflow) (2.14.0)\n",
      "Requirement already satisfied: opt-einsum>=2.3.2 in c:\\users\\user\\anaconda\\lib\\site-packages (from tensorflow-intel==2.14.0->tensorflow) (3.3.0)\n",
      "Requirement already satisfied: wrapt<1.15,>=1.11.0 in c:\\users\\user\\anaconda\\lib\\site-packages (from tensorflow-intel==2.14.0->tensorflow) (1.12.1)\n",
      "Requirement already satisfied: protobuf!=4.21.0,!=4.21.1,!=4.21.2,!=4.21.3,!=4.21.4,!=4.21.5,<5.0.0dev,>=3.20.3 in c:\\users\\user\\anaconda\\lib\\site-packages (from tensorflow-intel==2.14.0->tensorflow) (4.24.4)\n",
      "Requirement already satisfied: flatbuffers>=23.5.26 in c:\\users\\user\\anaconda\\lib\\site-packages (from tensorflow-intel==2.14.0->tensorflow) (23.5.26)\n",
      "Requirement already satisfied: h5py>=2.9.0 in c:\\users\\user\\anaconda\\lib\\site-packages (from tensorflow-intel==2.14.0->tensorflow) (3.2.1)\n",
      "Requirement already satisfied: astunparse>=1.6.0 in c:\\users\\user\\anaconda\\lib\\site-packages (from tensorflow-intel==2.14.0->tensorflow) (1.6.3)\n",
      "Requirement already satisfied: grpcio<2.0,>=1.24.3 in c:\\users\\user\\anaconda\\lib\\site-packages (from tensorflow-intel==2.14.0->tensorflow) (1.59.2)\n",
      "Requirement already satisfied: libclang>=13.0.0 in c:\\users\\user\\anaconda\\lib\\site-packages (from tensorflow-intel==2.14.0->tensorflow) (16.0.6)\n",
      "Requirement already satisfied: termcolor>=1.1.0 in c:\\users\\user\\anaconda\\lib\\site-packages (from tensorflow-intel==2.14.0->tensorflow) (2.3.0)\n",
      "Requirement already satisfied: tensorflow-io-gcs-filesystem>=0.23.1 in c:\\users\\user\\anaconda\\lib\\site-packages (from tensorflow-intel==2.14.0->tensorflow) (0.31.0)\n",
      "Requirement already satisfied: keras<2.15,>=2.14.0 in c:\\users\\user\\anaconda\\lib\\site-packages (from tensorflow-intel==2.14.0->tensorflow) (2.14.0)\n",
      "Requirement already satisfied: packaging in c:\\users\\user\\anaconda\\lib\\site-packages (from tensorflow-intel==2.14.0->tensorflow) (21.0)\n",
      "Requirement already satisfied: typing-extensions>=3.6.6 in c:\\users\\user\\anaconda\\lib\\site-packages (from tensorflow-intel==2.14.0->tensorflow) (3.10.0.2)\n",
      "Requirement already satisfied: google-pasta>=0.1.1 in c:\\users\\user\\anaconda\\lib\\site-packages (from tensorflow-intel==2.14.0->tensorflow) (0.2.0)\n",
      "Requirement already satisfied: absl-py>=1.0.0 in c:\\users\\user\\anaconda\\lib\\site-packages (from tensorflow-intel==2.14.0->tensorflow) (2.0.0)\n",
      "Requirement already satisfied: gast!=0.5.0,!=0.5.1,!=0.5.2,>=0.2.1 in c:\\users\\user\\anaconda\\lib\\site-packages (from tensorflow-intel==2.14.0->tensorflow) (0.5.4)\n",
      "Requirement already satisfied: ml-dtypes==0.2.0 in c:\\users\\user\\anaconda\\lib\\site-packages (from tensorflow-intel==2.14.0->tensorflow) (0.2.0)\n",
      "Requirement already satisfied: tensorboard<2.15,>=2.14 in c:\\users\\user\\anaconda\\lib\\site-packages (from tensorflow-intel==2.14.0->tensorflow) (2.14.1)\n",
      "Requirement already satisfied: setuptools in c:\\users\\user\\anaconda\\lib\\site-packages (from tensorflow-intel==2.14.0->tensorflow) (58.0.4)\n",
      "Requirement already satisfied: numpy>=1.23.5 in c:\\users\\user\\anaconda\\lib\\site-packages (from tensorflow-intel==2.14.0->tensorflow) (1.26.1)\n",
      "Requirement already satisfied: six>=1.12.0 in c:\\users\\user\\anaconda\\lib\\site-packages (from tensorflow-intel==2.14.0->tensorflow) (1.16.0)\n",
      "Requirement already satisfied: tensorflow-estimator<2.15,>=2.14.0 in c:\\users\\user\\anaconda\\lib\\site-packages (from tensorflow-intel==2.14.0->tensorflow) (2.14.0)\n",
      "Requirement already satisfied: wheel<1.0,>=0.23.0 in c:\\users\\user\\anaconda\\lib\\site-packages (from astunparse>=1.6.0->tensorflow-intel==2.14.0->tensorflow) (0.37.0)\n",
      "Requirement already satisfied: google-auth<3,>=1.6.3 in c:\\users\\user\\anaconda\\lib\\site-packages (from tensorboard<2.15,>=2.14->tensorflow-intel==2.14.0->tensorflow) (2.23.4)\n",
      "Requirement already satisfied: werkzeug>=1.0.1 in c:\\users\\user\\anaconda\\lib\\site-packages (from tensorboard<2.15,>=2.14->tensorflow-intel==2.14.0->tensorflow) (2.0.2)\n",
      "Requirement already satisfied: google-auth-oauthlib<1.1,>=0.5 in c:\\users\\user\\anaconda\\lib\\site-packages (from tensorboard<2.15,>=2.14->tensorflow-intel==2.14.0->tensorflow) (1.0.0)\n",
      "Requirement already satisfied: markdown>=2.6.8 in c:\\users\\user\\anaconda\\lib\\site-packages (from tensorboard<2.15,>=2.14->tensorflow-intel==2.14.0->tensorflow) (3.5.1)\n",
      "Requirement already satisfied: tensorboard-data-server<0.8.0,>=0.7.0 in c:\\users\\user\\anaconda\\lib\\site-packages (from tensorboard<2.15,>=2.14->tensorflow-intel==2.14.0->tensorflow) (0.7.2)\n",
      "Requirement already satisfied: requests<3,>=2.21.0 in c:\\users\\user\\anaconda\\lib\\site-packages (from tensorboard<2.15,>=2.14->tensorflow-intel==2.14.0->tensorflow) (2.26.0)\n",
      "Requirement already satisfied: rsa<5,>=3.1.4 in c:\\users\\user\\anaconda\\lib\\site-packages (from google-auth<3,>=1.6.3->tensorboard<2.15,>=2.14->tensorflow-intel==2.14.0->tensorflow) (4.9)\n",
      "Requirement already satisfied: cachetools<6.0,>=2.0.0 in c:\\users\\user\\anaconda\\lib\\site-packages (from google-auth<3,>=1.6.3->tensorboard<2.15,>=2.14->tensorflow-intel==2.14.0->tensorflow) (5.3.0)\n",
      "Requirement already satisfied: pyasn1-modules>=0.2.1 in c:\\users\\user\\anaconda\\lib\\site-packages (from google-auth<3,>=1.6.3->tensorboard<2.15,>=2.14->tensorflow-intel==2.14.0->tensorflow) (0.2.8)\n",
      "Requirement already satisfied: requests-oauthlib>=0.7.0 in c:\\users\\user\\anaconda\\lib\\site-packages (from google-auth-oauthlib<1.1,>=0.5->tensorboard<2.15,>=2.14->tensorflow-intel==2.14.0->tensorflow) (1.3.1)\n",
      "Requirement already satisfied: importlib-metadata>=4.4 in c:\\users\\user\\anaconda\\lib\\site-packages (from markdown>=2.6.8->tensorboard<2.15,>=2.14->tensorflow-intel==2.14.0->tensorflow) (4.8.1)\n",
      "Requirement already satisfied: zipp>=0.5 in c:\\users\\user\\anaconda\\lib\\site-packages (from importlib-metadata>=4.4->markdown>=2.6.8->tensorboard<2.15,>=2.14->tensorflow-intel==2.14.0->tensorflow) (3.6.0)\n",
      "Requirement already satisfied: pyasn1<0.5.0,>=0.4.6 in c:\\users\\user\\anaconda\\lib\\site-packages (from pyasn1-modules>=0.2.1->google-auth<3,>=1.6.3->tensorboard<2.15,>=2.14->tensorflow-intel==2.14.0->tensorflow) (0.4.8)\n",
      "Requirement already satisfied: idna<4,>=2.5 in c:\\users\\user\\anaconda\\lib\\site-packages (from requests<3,>=2.21.0->tensorboard<2.15,>=2.14->tensorflow-intel==2.14.0->tensorflow) (3.2)\n",
      "Requirement already satisfied: certifi>=2017.4.17 in c:\\users\\user\\anaconda\\lib\\site-packages (from requests<3,>=2.21.0->tensorboard<2.15,>=2.14->tensorflow-intel==2.14.0->tensorflow) (2021.10.8)\n",
      "Requirement already satisfied: urllib3<1.27,>=1.21.1 in c:\\users\\user\\anaconda\\lib\\site-packages (from requests<3,>=2.21.0->tensorboard<2.15,>=2.14->tensorflow-intel==2.14.0->tensorflow) (1.26.7)\n",
      "Requirement already satisfied: charset-normalizer~=2.0.0 in c:\\users\\user\\anaconda\\lib\\site-packages (from requests<3,>=2.21.0->tensorboard<2.15,>=2.14->tensorflow-intel==2.14.0->tensorflow) (2.0.4)\n",
      "Requirement already satisfied: oauthlib>=3.0.0 in c:\\users\\user\\anaconda\\lib\\site-packages (from requests-oauthlib>=0.7.0->google-auth-oauthlib<1.1,>=0.5->tensorboard<2.15,>=2.14->tensorflow-intel==2.14.0->tensorflow) (3.2.2)\n",
      "Requirement already satisfied: pyparsing>=2.0.2 in c:\\users\\user\\anaconda\\lib\\site-packages (from packaging->tensorflow-intel==2.14.0->tensorflow) (3.0.4)\n",
      "Note: you may need to restart the kernel to use updated packages.\n"
     ]
    }
   ],
   "source": [
    "pip install tensorflow"
   ]
  },
  {
   "cell_type": "code",
   "execution_count": null,
   "id": "ad090e23",
   "metadata": {},
   "outputs": [],
   "source": []
  },
  {
   "cell_type": "code",
   "execution_count": 48,
   "id": "091e258f",
   "metadata": {},
   "outputs": [
    {
     "name": "stdout",
     "output_type": "stream",
     "text": [
      "Requirement already satisfied: numpy in c:\\users\\user\\anaconda\\lib\\site-packages (1.26.1)\n"
     ]
    }
   ],
   "source": [
    "!pip install --upgrade numpy\n"
   ]
  },
  {
   "cell_type": "code",
   "execution_count": 49,
   "id": "15f0361a",
   "metadata": {},
   "outputs": [],
   "source": [
    "import keras\n"
   ]
  },
  {
   "cell_type": "code",
   "execution_count": 50,
   "id": "0d188853",
   "metadata": {},
   "outputs": [],
   "source": [
    "from keras.models import Sequential\n",
    "from keras.layers import Dense\n",
    "from sklearn.model_selection import train_test_split\n",
    "from sklearn.metrics import mean_squared_error"
   ]
  },
  {
   "cell_type": "markdown",
   "id": "fe07f6ae",
   "metadata": {},
   "source": [
    "Building the Neural network network\n",
    "Define the function to help us build a regression model.\n",
    "\n"
   ]
  },
  {
   "cell_type": "markdown",
   "id": "63a90c22",
   "metadata": {},
   "source": []
  },
  {
   "cell_type": "markdown",
   "id": "fd3967ae",
   "metadata": {},
   "source": []
  },
  {
   "cell_type": "markdown",
   "id": "8ee09098",
   "metadata": {},
   "source": [
    "Let's define a function that defines our regression model for us so that we can conveniently call it to create our model."
   ]
  },
  {
   "cell_type": "code",
   "execution_count": null,
   "id": "7c5b4a01",
   "metadata": {},
   "outputs": [],
   "source": []
  },
  {
   "cell_type": "code",
   "execution_count": 56,
   "id": "7f9aaf65",
   "metadata": {},
   "outputs": [],
   "source": [
    "def regression_model():\n",
    "    #create model\n",
    "    model = Sequential()\n",
    "    model.add(Dense(100,activation = 'relu', input_shape =( n_cols,)))\n",
    "    model.add(Dense(100,activation = 'relu'))\n",
    "    model.add(Dense(1,activation= 'linear'))\n",
    "    \n",
    "    #model compile\n",
    "    model.compile(optimizer='adam', loss='mean_squared_error')\n",
    "    return model"
   ]
  },
  {
   "cell_type": "code",
   "execution_count": 57,
   "id": "0517a3cd",
   "metadata": {},
   "outputs": [
    {
     "name": "stdout",
     "output_type": "stream",
     "text": [
      "Epoch 1/100\n",
      "23/23 - 2s - loss: 1474.5170 - val_loss: 1324.3923 - 2s/epoch - 73ms/step\n",
      "Epoch 2/100\n",
      "23/23 - 0s - loss: 1221.4039 - val_loss: 995.6671 - 139ms/epoch - 6ms/step\n",
      "Epoch 3/100\n",
      "23/23 - 0s - loss: 813.4832 - val_loss: 539.8123 - 128ms/epoch - 6ms/step\n",
      "Epoch 4/100\n",
      "23/23 - 0s - loss: 394.2329 - val_loss: 238.2830 - 133ms/epoch - 6ms/step\n",
      "Epoch 5/100\n",
      "23/23 - 0s - loss: 229.6105 - val_loss: 194.5051 - 131ms/epoch - 6ms/step\n",
      "Epoch 6/100\n",
      "23/23 - 0s - loss: 209.7543 - val_loss: 184.7712 - 167ms/epoch - 7ms/step\n",
      "Epoch 7/100\n",
      "23/23 - 0s - loss: 196.0835 - val_loss: 178.6085 - 135ms/epoch - 6ms/step\n",
      "Epoch 8/100\n",
      "23/23 - 0s - loss: 187.1675 - val_loss: 171.5540 - 131ms/epoch - 6ms/step\n",
      "Epoch 9/100\n",
      "23/23 - 0s - loss: 179.2749 - val_loss: 164.7665 - 126ms/epoch - 5ms/step\n",
      "Epoch 10/100\n",
      "23/23 - 0s - loss: 172.9428 - val_loss: 159.9741 - 130ms/epoch - 6ms/step\n",
      "Epoch 11/100\n",
      "23/23 - 0s - loss: 167.4785 - val_loss: 155.1663 - 136ms/epoch - 6ms/step\n",
      "Epoch 12/100\n",
      "23/23 - 0s - loss: 163.2012 - val_loss: 151.3598 - 134ms/epoch - 6ms/step\n",
      "Epoch 13/100\n",
      "23/23 - 0s - loss: 158.8827 - val_loss: 148.6711 - 135ms/epoch - 6ms/step\n",
      "Epoch 14/100\n",
      "23/23 - 0s - loss: 155.7850 - val_loss: 144.7005 - 195ms/epoch - 8ms/step\n",
      "Epoch 15/100\n",
      "23/23 - 0s - loss: 152.4662 - val_loss: 141.7983 - 128ms/epoch - 6ms/step\n",
      "Epoch 16/100\n",
      "23/23 - 0s - loss: 150.3823 - val_loss: 139.1191 - 130ms/epoch - 6ms/step\n",
      "Epoch 17/100\n",
      "23/23 - 0s - loss: 147.0151 - val_loss: 135.8285 - 129ms/epoch - 6ms/step\n",
      "Epoch 18/100\n",
      "23/23 - 0s - loss: 144.9535 - val_loss: 133.7278 - 129ms/epoch - 6ms/step\n",
      "Epoch 19/100\n",
      "23/23 - 0s - loss: 143.5761 - val_loss: 133.0973 - 148ms/epoch - 6ms/step\n",
      "Epoch 20/100\n",
      "23/23 - 0s - loss: 141.3908 - val_loss: 129.9914 - 153ms/epoch - 7ms/step\n",
      "Epoch 21/100\n",
      "23/23 - 0s - loss: 138.9646 - val_loss: 128.3230 - 137ms/epoch - 6ms/step\n",
      "Epoch 22/100\n",
      "23/23 - 0s - loss: 136.7923 - val_loss: 125.3839 - 136ms/epoch - 6ms/step\n",
      "Epoch 23/100\n",
      "23/23 - 0s - loss: 135.6359 - val_loss: 124.9653 - 136ms/epoch - 6ms/step\n",
      "Epoch 24/100\n",
      "23/23 - 0s - loss: 133.8852 - val_loss: 122.3425 - 141ms/epoch - 6ms/step\n",
      "Epoch 25/100\n",
      "23/23 - 0s - loss: 131.9756 - val_loss: 120.6014 - 140ms/epoch - 6ms/step\n",
      "Epoch 26/100\n",
      "23/23 - 0s - loss: 130.7264 - val_loss: 118.1788 - 135ms/epoch - 6ms/step\n",
      "Epoch 27/100\n",
      "23/23 - 0s - loss: 128.8886 - val_loss: 116.6325 - 145ms/epoch - 6ms/step\n",
      "Epoch 28/100\n",
      "23/23 - 0s - loss: 126.6253 - val_loss: 114.9767 - 130ms/epoch - 6ms/step\n",
      "Epoch 29/100\n",
      "23/23 - 0s - loss: 125.9287 - val_loss: 114.2318 - 138ms/epoch - 6ms/step\n",
      "Epoch 30/100\n",
      "23/23 - 0s - loss: 123.8605 - val_loss: 111.5699 - 139ms/epoch - 6ms/step\n",
      "Epoch 31/100\n",
      "23/23 - 0s - loss: 121.7466 - val_loss: 108.9232 - 136ms/epoch - 6ms/step\n",
      "Epoch 32/100\n",
      "23/23 - 0s - loss: 120.9993 - val_loss: 106.5526 - 135ms/epoch - 6ms/step\n",
      "Epoch 33/100\n",
      "23/23 - 0s - loss: 117.8064 - val_loss: 106.0846 - 146ms/epoch - 6ms/step\n",
      "Epoch 34/100\n",
      "23/23 - 1s - loss: 115.2407 - val_loss: 103.7288 - 512ms/epoch - 22ms/step\n",
      "Epoch 35/100\n",
      "23/23 - 0s - loss: 112.4481 - val_loss: 100.0164 - 170ms/epoch - 7ms/step\n",
      "Epoch 36/100\n",
      "23/23 - 0s - loss: 110.5366 - val_loss: 98.2494 - 151ms/epoch - 7ms/step\n",
      "Epoch 37/100\n",
      "23/23 - 0s - loss: 107.2336 - val_loss: 94.8088 - 164ms/epoch - 7ms/step\n",
      "Epoch 38/100\n",
      "23/23 - 0s - loss: 104.1694 - val_loss: 93.6527 - 182ms/epoch - 8ms/step\n",
      "Epoch 39/100\n",
      "23/23 - 0s - loss: 102.9170 - val_loss: 90.7764 - 190ms/epoch - 8ms/step\n",
      "Epoch 40/100\n",
      "23/23 - 0s - loss: 97.7830 - val_loss: 88.0814 - 181ms/epoch - 8ms/step\n",
      "Epoch 41/100\n",
      "23/23 - 0s - loss: 94.8183 - val_loss: 84.4554 - 142ms/epoch - 6ms/step\n",
      "Epoch 42/100\n",
      "23/23 - 0s - loss: 92.0876 - val_loss: 81.7113 - 169ms/epoch - 7ms/step\n",
      "Epoch 43/100\n",
      "23/23 - 0s - loss: 88.1032 - val_loss: 79.2093 - 152ms/epoch - 7ms/step\n",
      "Epoch 44/100\n",
      "23/23 - 0s - loss: 84.7385 - val_loss: 76.5289 - 178ms/epoch - 8ms/step\n",
      "Epoch 45/100\n",
      "23/23 - 0s - loss: 81.1098 - val_loss: 75.1403 - 132ms/epoch - 6ms/step\n",
      "Epoch 46/100\n",
      "23/23 - 0s - loss: 78.1773 - val_loss: 71.0089 - 135ms/epoch - 6ms/step\n",
      "Epoch 47/100\n",
      "23/23 - 0s - loss: 75.7613 - val_loss: 70.3713 - 129ms/epoch - 6ms/step\n",
      "Epoch 48/100\n",
      "23/23 - 0s - loss: 72.9838 - val_loss: 66.6694 - 170ms/epoch - 7ms/step\n",
      "Epoch 49/100\n",
      "23/23 - 0s - loss: 69.5054 - val_loss: 64.2303 - 139ms/epoch - 6ms/step\n",
      "Epoch 50/100\n",
      "23/23 - 0s - loss: 67.0105 - val_loss: 65.0991 - 143ms/epoch - 6ms/step\n",
      "Epoch 51/100\n",
      "23/23 - 0s - loss: 64.3145 - val_loss: 61.3458 - 147ms/epoch - 6ms/step\n",
      "Epoch 52/100\n",
      "23/23 - 0s - loss: 62.0074 - val_loss: 58.6145 - 130ms/epoch - 6ms/step\n",
      "Epoch 53/100\n",
      "23/23 - 0s - loss: 59.6831 - val_loss: 57.5067 - 144ms/epoch - 6ms/step\n",
      "Epoch 54/100\n",
      "23/23 - 0s - loss: 57.0865 - val_loss: 57.2033 - 130ms/epoch - 6ms/step\n",
      "Epoch 55/100\n",
      "23/23 - 0s - loss: 55.3341 - val_loss: 58.0952 - 130ms/epoch - 6ms/step\n",
      "Epoch 56/100\n",
      "23/23 - 0s - loss: 53.2841 - val_loss: 53.4540 - 124ms/epoch - 5ms/step\n",
      "Epoch 57/100\n",
      "23/23 - 0s - loss: 51.9049 - val_loss: 52.9890 - 122ms/epoch - 5ms/step\n",
      "Epoch 58/100\n",
      "23/23 - 0s - loss: 49.7174 - val_loss: 51.6978 - 129ms/epoch - 6ms/step\n",
      "Epoch 59/100\n",
      "23/23 - 0s - loss: 50.2209 - val_loss: 53.4802 - 138ms/epoch - 6ms/step\n",
      "Epoch 60/100\n",
      "23/23 - 0s - loss: 47.8006 - val_loss: 50.5855 - 135ms/epoch - 6ms/step\n",
      "Epoch 61/100\n",
      "23/23 - 0s - loss: 46.9678 - val_loss: 49.5635 - 135ms/epoch - 6ms/step\n",
      "Epoch 62/100\n",
      "23/23 - 0s - loss: 46.0396 - val_loss: 49.3265 - 126ms/epoch - 5ms/step\n",
      "Epoch 63/100\n",
      "23/23 - 0s - loss: 44.9245 - val_loss: 48.4945 - 176ms/epoch - 8ms/step\n",
      "Epoch 64/100\n",
      "23/23 - 0s - loss: 44.7480 - val_loss: 47.7736 - 146ms/epoch - 6ms/step\n",
      "Epoch 65/100\n",
      "23/23 - 0s - loss: 42.9872 - val_loss: 47.4552 - 131ms/epoch - 6ms/step\n",
      "Epoch 66/100\n",
      "23/23 - 0s - loss: 41.9818 - val_loss: 46.3053 - 137ms/epoch - 6ms/step\n",
      "Epoch 67/100\n",
      "23/23 - 0s - loss: 41.7733 - val_loss: 46.0650 - 122ms/epoch - 5ms/step\n",
      "Epoch 68/100\n",
      "23/23 - 0s - loss: 41.1258 - val_loss: 45.2067 - 149ms/epoch - 6ms/step\n",
      "Epoch 69/100\n",
      "23/23 - 0s - loss: 40.1491 - val_loss: 45.4166 - 163ms/epoch - 7ms/step\n",
      "Epoch 70/100\n",
      "23/23 - 0s - loss: 39.3363 - val_loss: 43.6386 - 133ms/epoch - 6ms/step\n",
      "Epoch 71/100\n",
      "23/23 - 0s - loss: 38.8063 - val_loss: 43.8107 - 136ms/epoch - 6ms/step\n",
      "Epoch 72/100\n",
      "23/23 - 0s - loss: 37.5638 - val_loss: 43.6817 - 128ms/epoch - 6ms/step\n",
      "Epoch 73/100\n",
      "23/23 - 0s - loss: 36.9844 - val_loss: 43.1348 - 156ms/epoch - 7ms/step\n",
      "Epoch 74/100\n",
      "23/23 - 0s - loss: 36.6687 - val_loss: 42.7104 - 156ms/epoch - 7ms/step\n",
      "Epoch 75/100\n",
      "23/23 - 0s - loss: 35.9899 - val_loss: 41.4187 - 130ms/epoch - 6ms/step\n",
      "Epoch 76/100\n",
      "23/23 - 0s - loss: 35.3866 - val_loss: 40.9217 - 140ms/epoch - 6ms/step\n",
      "Epoch 77/100\n",
      "23/23 - 0s - loss: 34.5774 - val_loss: 40.2332 - 153ms/epoch - 7ms/step\n",
      "Epoch 78/100\n",
      "23/23 - 0s - loss: 34.0961 - val_loss: 40.2651 - 148ms/epoch - 6ms/step\n",
      "Epoch 79/100\n",
      "23/23 - 0s - loss: 34.2394 - val_loss: 40.0131 - 155ms/epoch - 7ms/step\n",
      "Epoch 80/100\n",
      "23/23 - 0s - loss: 33.4311 - val_loss: 39.6641 - 158ms/epoch - 7ms/step\n",
      "Epoch 81/100\n",
      "23/23 - 0s - loss: 33.9838 - val_loss: 40.2162 - 139ms/epoch - 6ms/step\n",
      "Epoch 82/100\n",
      "23/23 - 0s - loss: 33.3893 - val_loss: 39.0431 - 133ms/epoch - 6ms/step\n",
      "Epoch 83/100\n",
      "23/23 - 0s - loss: 32.6140 - val_loss: 38.5200 - 128ms/epoch - 6ms/step\n",
      "Epoch 84/100\n",
      "23/23 - 0s - loss: 32.2786 - val_loss: 38.1708 - 130ms/epoch - 6ms/step\n",
      "Epoch 85/100\n",
      "23/23 - 0s - loss: 32.2611 - val_loss: 38.3339 - 132ms/epoch - 6ms/step\n",
      "Epoch 86/100\n",
      "23/23 - 0s - loss: 31.5200 - val_loss: 38.2952 - 132ms/epoch - 6ms/step\n",
      "Epoch 87/100\n",
      "23/23 - 0s - loss: 30.7541 - val_loss: 37.7637 - 151ms/epoch - 7ms/step\n",
      "Epoch 88/100\n",
      "23/23 - 0s - loss: 30.3757 - val_loss: 37.5524 - 164ms/epoch - 7ms/step\n",
      "Epoch 89/100\n",
      "23/23 - 0s - loss: 30.2161 - val_loss: 37.7030 - 174ms/epoch - 8ms/step\n",
      "Epoch 90/100\n",
      "23/23 - 0s - loss: 29.5889 - val_loss: 38.3210 - 152ms/epoch - 7ms/step\n",
      "Epoch 91/100\n",
      "23/23 - 0s - loss: 30.0291 - val_loss: 37.4052 - 140ms/epoch - 6ms/step\n",
      "Epoch 92/100\n",
      "23/23 - 0s - loss: 28.9909 - val_loss: 38.5784 - 140ms/epoch - 6ms/step\n",
      "Epoch 93/100\n",
      "23/23 - 0s - loss: 28.8995 - val_loss: 39.0646 - 139ms/epoch - 6ms/step\n",
      "Epoch 94/100\n",
      "23/23 - 0s - loss: 28.9197 - val_loss: 36.9248 - 129ms/epoch - 6ms/step\n",
      "Epoch 95/100\n",
      "23/23 - 0s - loss: 28.2040 - val_loss: 37.2481 - 143ms/epoch - 6ms/step\n",
      "Epoch 96/100\n",
      "23/23 - 0s - loss: 28.1249 - val_loss: 36.2694 - 143ms/epoch - 6ms/step\n"
     ]
    },
    {
     "name": "stdout",
     "output_type": "stream",
     "text": [
      "Epoch 97/100\n",
      "23/23 - 0s - loss: 27.9373 - val_loss: 36.8302 - 107ms/epoch - 5ms/step\n",
      "Epoch 98/100\n",
      "23/23 - 0s - loss: 27.8897 - val_loss: 36.2119 - 98ms/epoch - 4ms/step\n",
      "Epoch 99/100\n",
      "23/23 - 0s - loss: 27.8945 - val_loss: 36.3565 - 111ms/epoch - 5ms/step\n",
      "Epoch 100/100\n",
      "23/23 - 0s - loss: 27.7062 - val_loss: 41.4017 - 103ms/epoch - 4ms/step\n"
     ]
    }
   ],
   "source": [
    "#training and testing\n",
    "#build the model\n",
    "#split the data into train test split\n",
    "x_train,x_test,y_train,y_test = train_test_split(predictors_norm,target,test_size = 0.30, random_state =0)\n",
    "\n",
    "n_cols = predictors_norm.shape[1]\n",
    "model.fit(x_train,y_train,validation_data = (x_test,y_test),epochs = 100, verbose = 2)\n",
    "\n",
    "model = regression_model()\n",
    "\n",
    "\n",
    "\n"
   ]
  },
  {
   "cell_type": "code",
   "execution_count": 62,
   "id": "104fa132",
   "metadata": {},
   "outputs": [
    {
     "name": "stdout",
     "output_type": "stream",
     "text": [
      "10/10 [==============================] - 0s 3ms/step\n",
      "mean squared error1551.9915217336004\n"
     ]
    }
   ],
   "source": [
    "#evaluate model\n",
    "\n",
    "y_pred = model.predict(x_test)\n",
    "mse = mean_squared_error(y_test,y_pred)\n",
    "\n",
    "print(f'mean squared error{mse}')\n",
    "\n"
   ]
  },
  {
   "cell_type": "code",
   "execution_count": 63,
   "id": "84b585c6",
   "metadata": {},
   "outputs": [
    {
     "name": "stdout",
     "output_type": "stream",
     "text": [
      "INFO:tensorflow:Assets written to: regressionel.me\\assets\n"
     ]
    },
    {
     "name": "stderr",
     "output_type": "stream",
     "text": [
      "INFO:tensorflow:Assets written to: regressionel.me\\assets\n"
     ]
    }
   ],
   "source": [
    "#save model\n",
    "model.save('regressionel.me')"
   ]
  },
  {
   "cell_type": "code",
   "execution_count": 68,
   "id": "f81a0e38",
   "metadata": {},
   "outputs": [],
   "source": [
    "from keras.models import load_model\n",
    "\n",
    "loaded_model = load_model('regressionel.me')"
   ]
  },
  {
   "cell_type": "code",
   "execution_count": null,
   "id": "b82b2015",
   "metadata": {},
   "outputs": [],
   "source": []
  },
  {
   "cell_type": "code",
   "execution_count": null,
   "id": "114235b5",
   "metadata": {},
   "outputs": [],
   "source": []
  },
  {
   "cell_type": "code",
   "execution_count": null,
   "id": "d341eb6b",
   "metadata": {},
   "outputs": [],
   "source": []
  },
  {
   "cell_type": "code",
   "execution_count": null,
   "id": "af142a8b",
   "metadata": {},
   "outputs": [],
   "source": []
  },
  {
   "cell_type": "code",
   "execution_count": null,
   "id": "8f507b9d",
   "metadata": {},
   "outputs": [],
   "source": []
  }
 ],
 "metadata": {
  "kernelspec": {
   "display_name": "Python 3 (ipykernel)",
   "language": "python",
   "name": "python3"
  },
  "language_info": {
   "codemirror_mode": {
    "name": "ipython",
    "version": 3
   },
   "file_extension": ".py",
   "mimetype": "text/x-python",
   "name": "python",
   "nbconvert_exporter": "python",
   "pygments_lexer": "ipython3",
   "version": "3.9.7"
  }
 },
 "nbformat": 4,
 "nbformat_minor": 5
}
