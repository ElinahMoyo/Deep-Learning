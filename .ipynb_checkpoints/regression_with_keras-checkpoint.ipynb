{
 "cells": [
  {
   "cell_type": "code",
   "execution_count": 1,
   "id": "af963113",
   "metadata": {},
   "outputs": [
    {
     "name": "stdout",
     "output_type": "stream",
     "text": [
      "Requirement already satisfied: numpy in c:\\users\\user\\anaconda\\lib\\site-packages (1.26.1)\n",
      "Note: you may need to restart the kernel to use updated packages.\n"
     ]
    }
   ],
   "source": [
    "pip install numpy"
   ]
  },
  {
   "cell_type": "code",
   "execution_count": 2,
   "id": "0297a68f",
   "metadata": {},
   "outputs": [
    {
     "name": "stdout",
     "output_type": "stream",
     "text": [
      "Requirement already satisfied: keras in c:\\users\\user\\anaconda\\lib\\site-packages (2.14.0)Note: you may need to restart the kernel to use updated packages.\n",
      "\n"
     ]
    }
   ],
   "source": [
    "pip install keras\n"
   ]
  },
  {
   "cell_type": "code",
   "execution_count": 3,
   "id": "183496c7",
   "metadata": {},
   "outputs": [
    {
     "name": "stdout",
     "output_type": "stream",
     "text": [
      "Requirement already satisfied: pandas in c:\\users\\user\\anaconda\\lib\\site-packages (1.3.4)\n",
      "Requirement already satisfied: numpy>=1.17.3 in c:\\users\\user\\anaconda\\lib\\site-packages (from pandas) (1.26.1)\n",
      "Requirement already satisfied: python-dateutil>=2.7.3 in c:\\users\\user\\anaconda\\lib\\site-packages (from pandas) (2.8.2)\n",
      "Requirement already satisfied: pytz>=2017.3 in c:\\users\\user\\anaconda\\lib\\site-packages (from pandas) (2021.3)\n",
      "Requirement already satisfied: six>=1.5 in c:\\users\\user\\anaconda\\lib\\site-packages (from python-dateutil>=2.7.3->pandas) (1.16.0)\n",
      "Note: you may need to restart the kernel to use updated packages.\n"
     ]
    }
   ],
   "source": [
    "pip install pandas"
   ]
  },
  {
   "cell_type": "code",
   "execution_count": 4,
   "id": "1236c407",
   "metadata": {},
   "outputs": [],
   "source": [
    "import pandas as pd\n",
    "import numpy as np\n",
    "### the dataset im using link iro and thenThe dataset is about the compressive strength of different samples of concrete based on the volumes of the different ingredients that were used to make them\n"
   ]
  },
  {
   "cell_type": "code",
   "execution_count": 5,
   "id": "b58c87d0",
   "metadata": {},
   "outputs": [
    {
     "data": {
      "text/html": [
       "<div>\n",
       "<style scoped>\n",
       "    .dataframe tbody tr th:only-of-type {\n",
       "        vertical-align: middle;\n",
       "    }\n",
       "\n",
       "    .dataframe tbody tr th {\n",
       "        vertical-align: top;\n",
       "    }\n",
       "\n",
       "    .dataframe thead th {\n",
       "        text-align: right;\n",
       "    }\n",
       "</style>\n",
       "<table border=\"1\" class=\"dataframe\">\n",
       "  <thead>\n",
       "    <tr style=\"text-align: right;\">\n",
       "      <th></th>\n",
       "      <th>Cement</th>\n",
       "      <th>Blast Furnace Slag</th>\n",
       "      <th>Fly Ash</th>\n",
       "      <th>Water</th>\n",
       "      <th>Superplasticizer</th>\n",
       "      <th>Coarse Aggregate</th>\n",
       "      <th>Fine Aggregate</th>\n",
       "      <th>Age</th>\n",
       "      <th>Strength</th>\n",
       "    </tr>\n",
       "  </thead>\n",
       "  <tbody>\n",
       "    <tr>\n",
       "      <th>0</th>\n",
       "      <td>540.0</td>\n",
       "      <td>0.0</td>\n",
       "      <td>0.0</td>\n",
       "      <td>162.0</td>\n",
       "      <td>2.5</td>\n",
       "      <td>1040.0</td>\n",
       "      <td>676.0</td>\n",
       "      <td>28</td>\n",
       "      <td>79.99</td>\n",
       "    </tr>\n",
       "    <tr>\n",
       "      <th>1</th>\n",
       "      <td>540.0</td>\n",
       "      <td>0.0</td>\n",
       "      <td>0.0</td>\n",
       "      <td>162.0</td>\n",
       "      <td>2.5</td>\n",
       "      <td>1055.0</td>\n",
       "      <td>676.0</td>\n",
       "      <td>28</td>\n",
       "      <td>61.89</td>\n",
       "    </tr>\n",
       "    <tr>\n",
       "      <th>2</th>\n",
       "      <td>332.5</td>\n",
       "      <td>142.5</td>\n",
       "      <td>0.0</td>\n",
       "      <td>228.0</td>\n",
       "      <td>0.0</td>\n",
       "      <td>932.0</td>\n",
       "      <td>594.0</td>\n",
       "      <td>270</td>\n",
       "      <td>40.27</td>\n",
       "    </tr>\n",
       "    <tr>\n",
       "      <th>3</th>\n",
       "      <td>332.5</td>\n",
       "      <td>142.5</td>\n",
       "      <td>0.0</td>\n",
       "      <td>228.0</td>\n",
       "      <td>0.0</td>\n",
       "      <td>932.0</td>\n",
       "      <td>594.0</td>\n",
       "      <td>365</td>\n",
       "      <td>41.05</td>\n",
       "    </tr>\n",
       "    <tr>\n",
       "      <th>4</th>\n",
       "      <td>198.6</td>\n",
       "      <td>132.4</td>\n",
       "      <td>0.0</td>\n",
       "      <td>192.0</td>\n",
       "      <td>0.0</td>\n",
       "      <td>978.4</td>\n",
       "      <td>825.5</td>\n",
       "      <td>360</td>\n",
       "      <td>44.30</td>\n",
       "    </tr>\n",
       "  </tbody>\n",
       "</table>\n",
       "</div>"
      ],
      "text/plain": [
       "   Cement  Blast Furnace Slag  Fly Ash  Water  Superplasticizer  \\\n",
       "0   540.0                 0.0      0.0  162.0               2.5   \n",
       "1   540.0                 0.0      0.0  162.0               2.5   \n",
       "2   332.5               142.5      0.0  228.0               0.0   \n",
       "3   332.5               142.5      0.0  228.0               0.0   \n",
       "4   198.6               132.4      0.0  192.0               0.0   \n",
       "\n",
       "   Coarse Aggregate  Fine Aggregate  Age  Strength  \n",
       "0            1040.0           676.0   28     79.99  \n",
       "1            1055.0           676.0   28     61.89  \n",
       "2             932.0           594.0  270     40.27  \n",
       "3             932.0           594.0  365     41.05  \n",
       "4             978.4           825.5  360     44.30  "
      ]
     },
     "execution_count": 5,
     "metadata": {},
     "output_type": "execute_result"
    }
   ],
   "source": [
    "concrete_data = pd.read_csv('https://s3-api.us-geo.objectstorage.softlayer.net/cf-courses-data/CognitiveClass/DL0101EN/labs/data/concrete_data.csv')\n",
    "concrete_data.head()"
   ]
  },
  {
   "cell_type": "code",
   "execution_count": 6,
   "id": "dba98b68",
   "metadata": {},
   "outputs": [
    {
     "data": {
      "text/plain": [
       "(1030, 9)"
      ]
     },
     "execution_count": 6,
     "metadata": {},
     "output_type": "execute_result"
    }
   ],
   "source": [
    "concrete_data.shape"
   ]
  },
  {
   "cell_type": "code",
   "execution_count": 7,
   "id": "7ccbe80a",
   "metadata": {},
   "outputs": [
    {
     "data": {
      "text/html": [
       "<div>\n",
       "<style scoped>\n",
       "    .dataframe tbody tr th:only-of-type {\n",
       "        vertical-align: middle;\n",
       "    }\n",
       "\n",
       "    .dataframe tbody tr th {\n",
       "        vertical-align: top;\n",
       "    }\n",
       "\n",
       "    .dataframe thead th {\n",
       "        text-align: right;\n",
       "    }\n",
       "</style>\n",
       "<table border=\"1\" class=\"dataframe\">\n",
       "  <thead>\n",
       "    <tr style=\"text-align: right;\">\n",
       "      <th></th>\n",
       "      <th>Cement</th>\n",
       "      <th>Blast Furnace Slag</th>\n",
       "      <th>Fly Ash</th>\n",
       "      <th>Water</th>\n",
       "      <th>Superplasticizer</th>\n",
       "      <th>Coarse Aggregate</th>\n",
       "      <th>Fine Aggregate</th>\n",
       "      <th>Age</th>\n",
       "      <th>Strength</th>\n",
       "    </tr>\n",
       "  </thead>\n",
       "  <tbody>\n",
       "    <tr>\n",
       "      <th>count</th>\n",
       "      <td>1030.000000</td>\n",
       "      <td>1030.000000</td>\n",
       "      <td>1030.000000</td>\n",
       "      <td>1030.000000</td>\n",
       "      <td>1030.000000</td>\n",
       "      <td>1030.000000</td>\n",
       "      <td>1030.000000</td>\n",
       "      <td>1030.000000</td>\n",
       "      <td>1030.000000</td>\n",
       "    </tr>\n",
       "    <tr>\n",
       "      <th>mean</th>\n",
       "      <td>281.167864</td>\n",
       "      <td>73.895825</td>\n",
       "      <td>54.188350</td>\n",
       "      <td>181.567282</td>\n",
       "      <td>6.204660</td>\n",
       "      <td>972.918932</td>\n",
       "      <td>773.580485</td>\n",
       "      <td>45.662136</td>\n",
       "      <td>35.817961</td>\n",
       "    </tr>\n",
       "    <tr>\n",
       "      <th>std</th>\n",
       "      <td>104.506364</td>\n",
       "      <td>86.279342</td>\n",
       "      <td>63.997004</td>\n",
       "      <td>21.354219</td>\n",
       "      <td>5.973841</td>\n",
       "      <td>77.753954</td>\n",
       "      <td>80.175980</td>\n",
       "      <td>63.169912</td>\n",
       "      <td>16.705742</td>\n",
       "    </tr>\n",
       "    <tr>\n",
       "      <th>min</th>\n",
       "      <td>102.000000</td>\n",
       "      <td>0.000000</td>\n",
       "      <td>0.000000</td>\n",
       "      <td>121.800000</td>\n",
       "      <td>0.000000</td>\n",
       "      <td>801.000000</td>\n",
       "      <td>594.000000</td>\n",
       "      <td>1.000000</td>\n",
       "      <td>2.330000</td>\n",
       "    </tr>\n",
       "    <tr>\n",
       "      <th>25%</th>\n",
       "      <td>192.375000</td>\n",
       "      <td>0.000000</td>\n",
       "      <td>0.000000</td>\n",
       "      <td>164.900000</td>\n",
       "      <td>0.000000</td>\n",
       "      <td>932.000000</td>\n",
       "      <td>730.950000</td>\n",
       "      <td>7.000000</td>\n",
       "      <td>23.710000</td>\n",
       "    </tr>\n",
       "    <tr>\n",
       "      <th>50%</th>\n",
       "      <td>272.900000</td>\n",
       "      <td>22.000000</td>\n",
       "      <td>0.000000</td>\n",
       "      <td>185.000000</td>\n",
       "      <td>6.400000</td>\n",
       "      <td>968.000000</td>\n",
       "      <td>779.500000</td>\n",
       "      <td>28.000000</td>\n",
       "      <td>34.445000</td>\n",
       "    </tr>\n",
       "    <tr>\n",
       "      <th>75%</th>\n",
       "      <td>350.000000</td>\n",
       "      <td>142.950000</td>\n",
       "      <td>118.300000</td>\n",
       "      <td>192.000000</td>\n",
       "      <td>10.200000</td>\n",
       "      <td>1029.400000</td>\n",
       "      <td>824.000000</td>\n",
       "      <td>56.000000</td>\n",
       "      <td>46.135000</td>\n",
       "    </tr>\n",
       "    <tr>\n",
       "      <th>max</th>\n",
       "      <td>540.000000</td>\n",
       "      <td>359.400000</td>\n",
       "      <td>200.100000</td>\n",
       "      <td>247.000000</td>\n",
       "      <td>32.200000</td>\n",
       "      <td>1145.000000</td>\n",
       "      <td>992.600000</td>\n",
       "      <td>365.000000</td>\n",
       "      <td>82.600000</td>\n",
       "    </tr>\n",
       "  </tbody>\n",
       "</table>\n",
       "</div>"
      ],
      "text/plain": [
       "            Cement  Blast Furnace Slag      Fly Ash        Water  \\\n",
       "count  1030.000000         1030.000000  1030.000000  1030.000000   \n",
       "mean    281.167864           73.895825    54.188350   181.567282   \n",
       "std     104.506364           86.279342    63.997004    21.354219   \n",
       "min     102.000000            0.000000     0.000000   121.800000   \n",
       "25%     192.375000            0.000000     0.000000   164.900000   \n",
       "50%     272.900000           22.000000     0.000000   185.000000   \n",
       "75%     350.000000          142.950000   118.300000   192.000000   \n",
       "max     540.000000          359.400000   200.100000   247.000000   \n",
       "\n",
       "       Superplasticizer  Coarse Aggregate  Fine Aggregate          Age  \\\n",
       "count       1030.000000       1030.000000     1030.000000  1030.000000   \n",
       "mean           6.204660        972.918932      773.580485    45.662136   \n",
       "std            5.973841         77.753954       80.175980    63.169912   \n",
       "min            0.000000        801.000000      594.000000     1.000000   \n",
       "25%            0.000000        932.000000      730.950000     7.000000   \n",
       "50%            6.400000        968.000000      779.500000    28.000000   \n",
       "75%           10.200000       1029.400000      824.000000    56.000000   \n",
       "max           32.200000       1145.000000      992.600000   365.000000   \n",
       "\n",
       "          Strength  \n",
       "count  1030.000000  \n",
       "mean     35.817961  \n",
       "std      16.705742  \n",
       "min       2.330000  \n",
       "25%      23.710000  \n",
       "50%      34.445000  \n",
       "75%      46.135000  \n",
       "max      82.600000  "
      ]
     },
     "execution_count": 7,
     "metadata": {},
     "output_type": "execute_result"
    }
   ],
   "source": [
    "concrete_data.describe()"
   ]
  },
  {
   "cell_type": "code",
   "execution_count": 8,
   "id": "ee90e335",
   "metadata": {},
   "outputs": [
    {
     "data": {
      "text/plain": [
       "Cement                0\n",
       "Blast Furnace Slag    0\n",
       "Fly Ash               0\n",
       "Water                 0\n",
       "Superplasticizer      0\n",
       "Coarse Aggregate      0\n",
       "Fine Aggregate        0\n",
       "Age                   0\n",
       "Strength              0\n",
       "dtype: int64"
      ]
     },
     "execution_count": 8,
     "metadata": {},
     "output_type": "execute_result"
    }
   ],
   "source": [
    "## checking missing values\n",
    "\n",
    "concrete_data.isnull().sum()"
   ]
  },
  {
   "cell_type": "code",
   "execution_count": null,
   "id": "c68dae91",
   "metadata": {},
   "outputs": [],
   "source": []
  },
  {
   "cell_type": "markdown",
   "id": "c4f9bdee",
   "metadata": {},
   "source": [
    "# split data into predictors and targets\n",
    "#The target variable in this problem is the concrete sample strength. Therefore, our predictors will be all the other columns."
   ]
  },
  {
   "cell_type": "code",
   "execution_count": 9,
   "id": "2ac8f509",
   "metadata": {},
   "outputs": [],
   "source": [
    "target = concrete_data['Strength']#strength column\n",
    "concrete_data_columns = concrete_data.columns \n",
    "\n",
    "predictors = concrete_data[concrete_data_columns[concrete_data_columns != \"Strength\"]] #all columns except strength one"
   ]
  },
  {
   "cell_type": "code",
   "execution_count": 10,
   "id": "174e1645",
   "metadata": {},
   "outputs": [
    {
     "data": {
      "text/html": [
       "<div>\n",
       "<style scoped>\n",
       "    .dataframe tbody tr th:only-of-type {\n",
       "        vertical-align: middle;\n",
       "    }\n",
       "\n",
       "    .dataframe tbody tr th {\n",
       "        vertical-align: top;\n",
       "    }\n",
       "\n",
       "    .dataframe thead th {\n",
       "        text-align: right;\n",
       "    }\n",
       "</style>\n",
       "<table border=\"1\" class=\"dataframe\">\n",
       "  <thead>\n",
       "    <tr style=\"text-align: right;\">\n",
       "      <th></th>\n",
       "      <th>Cement</th>\n",
       "      <th>Blast Furnace Slag</th>\n",
       "      <th>Fly Ash</th>\n",
       "      <th>Water</th>\n",
       "      <th>Superplasticizer</th>\n",
       "      <th>Coarse Aggregate</th>\n",
       "      <th>Fine Aggregate</th>\n",
       "      <th>Age</th>\n",
       "    </tr>\n",
       "  </thead>\n",
       "  <tbody>\n",
       "    <tr>\n",
       "      <th>0</th>\n",
       "      <td>540.0</td>\n",
       "      <td>0.0</td>\n",
       "      <td>0.0</td>\n",
       "      <td>162.0</td>\n",
       "      <td>2.5</td>\n",
       "      <td>1040.0</td>\n",
       "      <td>676.0</td>\n",
       "      <td>28</td>\n",
       "    </tr>\n",
       "    <tr>\n",
       "      <th>1</th>\n",
       "      <td>540.0</td>\n",
       "      <td>0.0</td>\n",
       "      <td>0.0</td>\n",
       "      <td>162.0</td>\n",
       "      <td>2.5</td>\n",
       "      <td>1055.0</td>\n",
       "      <td>676.0</td>\n",
       "      <td>28</td>\n",
       "    </tr>\n",
       "    <tr>\n",
       "      <th>2</th>\n",
       "      <td>332.5</td>\n",
       "      <td>142.5</td>\n",
       "      <td>0.0</td>\n",
       "      <td>228.0</td>\n",
       "      <td>0.0</td>\n",
       "      <td>932.0</td>\n",
       "      <td>594.0</td>\n",
       "      <td>270</td>\n",
       "    </tr>\n",
       "    <tr>\n",
       "      <th>3</th>\n",
       "      <td>332.5</td>\n",
       "      <td>142.5</td>\n",
       "      <td>0.0</td>\n",
       "      <td>228.0</td>\n",
       "      <td>0.0</td>\n",
       "      <td>932.0</td>\n",
       "      <td>594.0</td>\n",
       "      <td>365</td>\n",
       "    </tr>\n",
       "    <tr>\n",
       "      <th>4</th>\n",
       "      <td>198.6</td>\n",
       "      <td>132.4</td>\n",
       "      <td>0.0</td>\n",
       "      <td>192.0</td>\n",
       "      <td>0.0</td>\n",
       "      <td>978.4</td>\n",
       "      <td>825.5</td>\n",
       "      <td>360</td>\n",
       "    </tr>\n",
       "  </tbody>\n",
       "</table>\n",
       "</div>"
      ],
      "text/plain": [
       "   Cement  Blast Furnace Slag  Fly Ash  Water  Superplasticizer  \\\n",
       "0   540.0                 0.0      0.0  162.0               2.5   \n",
       "1   540.0                 0.0      0.0  162.0               2.5   \n",
       "2   332.5               142.5      0.0  228.0               0.0   \n",
       "3   332.5               142.5      0.0  228.0               0.0   \n",
       "4   198.6               132.4      0.0  192.0               0.0   \n",
       "\n",
       "   Coarse Aggregate  Fine Aggregate  Age  \n",
       "0            1040.0           676.0   28  \n",
       "1            1055.0           676.0   28  \n",
       "2             932.0           594.0  270  \n",
       "3             932.0           594.0  365  \n",
       "4             978.4           825.5  360  "
      ]
     },
     "execution_count": 10,
     "metadata": {},
     "output_type": "execute_result"
    }
   ],
   "source": [
    "predictors.head()"
   ]
  },
  {
   "cell_type": "code",
   "execution_count": 11,
   "id": "69315f0a",
   "metadata": {},
   "outputs": [
    {
     "data": {
      "text/plain": [
       "0    79.99\n",
       "1    61.89\n",
       "2    40.27\n",
       "3    41.05\n",
       "4    44.30\n",
       "Name: Strength, dtype: float64"
      ]
     },
     "execution_count": 11,
     "metadata": {},
     "output_type": "execute_result"
    }
   ],
   "source": [
    "target.head()"
   ]
  },
  {
   "cell_type": "code",
   "execution_count": 12,
   "id": "6ee29d94",
   "metadata": {},
   "outputs": [],
   "source": [
    "#Finally, the last step is to normalize the data by substracting the mean and dividing by the standard deviation.\n",
    "\n",
    "predictors_norm = (predictors-predictors.mean()) /predictors.std()"
   ]
  },
  {
   "cell_type": "code",
   "execution_count": 13,
   "id": "566ec66e",
   "metadata": {},
   "outputs": [
    {
     "data": {
      "text/html": [
       "<div>\n",
       "<style scoped>\n",
       "    .dataframe tbody tr th:only-of-type {\n",
       "        vertical-align: middle;\n",
       "    }\n",
       "\n",
       "    .dataframe tbody tr th {\n",
       "        vertical-align: top;\n",
       "    }\n",
       "\n",
       "    .dataframe thead th {\n",
       "        text-align: right;\n",
       "    }\n",
       "</style>\n",
       "<table border=\"1\" class=\"dataframe\">\n",
       "  <thead>\n",
       "    <tr style=\"text-align: right;\">\n",
       "      <th></th>\n",
       "      <th>Cement</th>\n",
       "      <th>Blast Furnace Slag</th>\n",
       "      <th>Fly Ash</th>\n",
       "      <th>Water</th>\n",
       "      <th>Superplasticizer</th>\n",
       "      <th>Coarse Aggregate</th>\n",
       "      <th>Fine Aggregate</th>\n",
       "      <th>Age</th>\n",
       "    </tr>\n",
       "  </thead>\n",
       "  <tbody>\n",
       "    <tr>\n",
       "      <th>0</th>\n",
       "      <td>2.476712</td>\n",
       "      <td>-0.856472</td>\n",
       "      <td>-0.846733</td>\n",
       "      <td>-0.916319</td>\n",
       "      <td>-0.620147</td>\n",
       "      <td>0.862735</td>\n",
       "      <td>-1.217079</td>\n",
       "      <td>-0.279597</td>\n",
       "    </tr>\n",
       "    <tr>\n",
       "      <th>1</th>\n",
       "      <td>2.476712</td>\n",
       "      <td>-0.856472</td>\n",
       "      <td>-0.846733</td>\n",
       "      <td>-0.916319</td>\n",
       "      <td>-0.620147</td>\n",
       "      <td>1.055651</td>\n",
       "      <td>-1.217079</td>\n",
       "      <td>-0.279597</td>\n",
       "    </tr>\n",
       "    <tr>\n",
       "      <th>2</th>\n",
       "      <td>0.491187</td>\n",
       "      <td>0.795140</td>\n",
       "      <td>-0.846733</td>\n",
       "      <td>2.174405</td>\n",
       "      <td>-1.038638</td>\n",
       "      <td>-0.526262</td>\n",
       "      <td>-2.239829</td>\n",
       "      <td>3.551340</td>\n",
       "    </tr>\n",
       "    <tr>\n",
       "      <th>3</th>\n",
       "      <td>0.491187</td>\n",
       "      <td>0.795140</td>\n",
       "      <td>-0.846733</td>\n",
       "      <td>2.174405</td>\n",
       "      <td>-1.038638</td>\n",
       "      <td>-0.526262</td>\n",
       "      <td>-2.239829</td>\n",
       "      <td>5.055221</td>\n",
       "    </tr>\n",
       "    <tr>\n",
       "      <th>4</th>\n",
       "      <td>-0.790075</td>\n",
       "      <td>0.678079</td>\n",
       "      <td>-0.846733</td>\n",
       "      <td>0.488555</td>\n",
       "      <td>-1.038638</td>\n",
       "      <td>0.070492</td>\n",
       "      <td>0.647569</td>\n",
       "      <td>4.976069</td>\n",
       "    </tr>\n",
       "  </tbody>\n",
       "</table>\n",
       "</div>"
      ],
      "text/plain": [
       "     Cement  Blast Furnace Slag   Fly Ash     Water  Superplasticizer  \\\n",
       "0  2.476712           -0.856472 -0.846733 -0.916319         -0.620147   \n",
       "1  2.476712           -0.856472 -0.846733 -0.916319         -0.620147   \n",
       "2  0.491187            0.795140 -0.846733  2.174405         -1.038638   \n",
       "3  0.491187            0.795140 -0.846733  2.174405         -1.038638   \n",
       "4 -0.790075            0.678079 -0.846733  0.488555         -1.038638   \n",
       "\n",
       "   Coarse Aggregate  Fine Aggregate       Age  \n",
       "0          0.862735       -1.217079 -0.279597  \n",
       "1          1.055651       -1.217079 -0.279597  \n",
       "2         -0.526262       -2.239829  3.551340  \n",
       "3         -0.526262       -2.239829  5.055221  \n",
       "4          0.070492        0.647569  4.976069  "
      ]
     },
     "execution_count": 13,
     "metadata": {},
     "output_type": "execute_result"
    }
   ],
   "source": [
    "predictors_norm.head()"
   ]
  },
  {
   "cell_type": "code",
   "execution_count": 14,
   "id": "5e4ed74a",
   "metadata": {},
   "outputs": [],
   "source": [
    "#Let's save the number of predictors to n_cols since we will need this number when building our network.\n",
    "n_cols = predictors_norm.shape[1]#number of predictors"
   ]
  },
  {
   "cell_type": "code",
   "execution_count": 15,
   "id": "41b88e6b",
   "metadata": {},
   "outputs": [
    {
     "name": "stdout",
     "output_type": "stream",
     "text": [
      "Requirement already satisfied: tensorflow in c:\\users\\user\\anaconda\\lib\\site-packages (2.14.0)\n",
      "Requirement already satisfied: tensorflow-intel==2.14.0 in c:\\users\\user\\anaconda\\lib\\site-packages (from tensorflow) (2.14.0)\n",
      "Requirement already satisfied: astunparse>=1.6.0 in c:\\users\\user\\anaconda\\lib\\site-packages (from tensorflow-intel==2.14.0->tensorflow) (1.6.3)\n",
      "Requirement already satisfied: ml-dtypes==0.2.0 in c:\\users\\user\\anaconda\\lib\\site-packages (from tensorflow-intel==2.14.0->tensorflow) (0.2.0)\n",
      "Requirement already satisfied: typing-extensions>=3.6.6 in c:\\users\\user\\anaconda\\lib\\site-packages (from tensorflow-intel==2.14.0->tensorflow) (3.10.0.2)\n",
      "Requirement already satisfied: numpy>=1.23.5 in c:\\users\\user\\anaconda\\lib\\site-packages (from tensorflow-intel==2.14.0->tensorflow) (1.26.1)\n",
      "Requirement already satisfied: flatbuffers>=23.5.26 in c:\\users\\user\\anaconda\\lib\\site-packages (from tensorflow-intel==2.14.0->tensorflow) (23.5.26)\n",
      "Requirement already satisfied: wrapt<1.15,>=1.11.0 in c:\\users\\user\\anaconda\\lib\\site-packages (from tensorflow-intel==2.14.0->tensorflow) (1.12.1)\n",
      "Requirement already satisfied: protobuf!=4.21.0,!=4.21.1,!=4.21.2,!=4.21.3,!=4.21.4,!=4.21.5,<5.0.0dev,>=3.20.3 in c:\\users\\user\\anaconda\\lib\\site-packages (from tensorflow-intel==2.14.0->tensorflow) (4.24.4)\n",
      "Requirement already satisfied: tensorflow-estimator<2.15,>=2.14.0 in c:\\users\\user\\anaconda\\lib\\site-packages (from tensorflow-intel==2.14.0->tensorflow) (2.14.0)\n",
      "Requirement already satisfied: grpcio<2.0,>=1.24.3 in c:\\users\\user\\anaconda\\lib\\site-packages (from tensorflow-intel==2.14.0->tensorflow) (1.59.2)\n",
      "Requirement already satisfied: packaging in c:\\users\\user\\anaconda\\lib\\site-packages (from tensorflow-intel==2.14.0->tensorflow) (21.0)\n",
      "Requirement already satisfied: tensorflow-io-gcs-filesystem>=0.23.1 in c:\\users\\user\\anaconda\\lib\\site-packages (from tensorflow-intel==2.14.0->tensorflow) (0.31.0)\n",
      "Requirement already satisfied: gast!=0.5.0,!=0.5.1,!=0.5.2,>=0.2.1 in c:\\users\\user\\anaconda\\lib\\site-packages (from tensorflow-intel==2.14.0->tensorflow) (0.5.4)\n",
      "Requirement already satisfied: tensorboard<2.15,>=2.14 in c:\\users\\user\\anaconda\\lib\\site-packages (from tensorflow-intel==2.14.0->tensorflow) (2.14.1)\n",
      "Requirement already satisfied: h5py>=2.9.0 in c:\\users\\user\\anaconda\\lib\\site-packages (from tensorflow-intel==2.14.0->tensorflow) (3.2.1)\n",
      "Requirement already satisfied: opt-einsum>=2.3.2 in c:\\users\\user\\anaconda\\lib\\site-packages (from tensorflow-intel==2.14.0->tensorflow) (3.3.0)\n",
      "Requirement already satisfied: keras<2.15,>=2.14.0 in c:\\users\\user\\anaconda\\lib\\site-packages (from tensorflow-intel==2.14.0->tensorflow) (2.14.0)\n",
      "Requirement already satisfied: absl-py>=1.0.0 in c:\\users\\user\\anaconda\\lib\\site-packages (from tensorflow-intel==2.14.0->tensorflow) (2.0.0)\n",
      "Requirement already satisfied: termcolor>=1.1.0 in c:\\users\\user\\anaconda\\lib\\site-packages (from tensorflow-intel==2.14.0->tensorflow) (2.3.0)\n",
      "Requirement already satisfied: libclang>=13.0.0 in c:\\users\\user\\anaconda\\lib\\site-packages (from tensorflow-intel==2.14.0->tensorflow) (16.0.6)\n",
      "Requirement already satisfied: google-pasta>=0.1.1 in c:\\users\\user\\anaconda\\lib\\site-packages (from tensorflow-intel==2.14.0->tensorflow) (0.2.0)\n",
      "Requirement already satisfied: setuptools in c:\\users\\user\\anaconda\\lib\\site-packages (from tensorflow-intel==2.14.0->tensorflow) (58.0.4)\n",
      "Requirement already satisfied: six>=1.12.0 in c:\\users\\user\\anaconda\\lib\\site-packages (from tensorflow-intel==2.14.0->tensorflow) (1.16.0)Note: you may need to restart the kernel to use updated packages.\n",
      "Requirement already satisfied: wheel<1.0,>=0.23.0 in c:\\users\\user\\anaconda\\lib\\site-packages (from astunparse>=1.6.0->tensorflow-intel==2.14.0->tensorflow) (0.37.0)\n",
      "Requirement already satisfied: markdown>=2.6.8 in c:\\users\\user\\anaconda\\lib\\site-packages (from tensorboard<2.15,>=2.14->tensorflow-intel==2.14.0->tensorflow) (3.5.1)\n",
      "Requirement already satisfied: requests<3,>=2.21.0 in c:\\users\\user\\anaconda\\lib\\site-packages (from tensorboard<2.15,>=2.14->tensorflow-intel==2.14.0->tensorflow) (2.26.0)\n",
      "Requirement already satisfied: tensorboard-data-server<0.8.0,>=0.7.0 in c:\\users\\user\\anaconda\\lib\\site-packages (from tensorboard<2.15,>=2.14->tensorflow-intel==2.14.0->tensorflow) (0.7.2)\n",
      "Requirement already satisfied: google-auth<3,>=1.6.3 in c:\\users\\user\\anaconda\\lib\\site-packages (from tensorboard<2.15,>=2.14->tensorflow-intel==2.14.0->tensorflow) (2.23.4)\n",
      "Requirement already satisfied: google-auth-oauthlib<1.1,>=0.5 in c:\\users\\user\\anaconda\\lib\\site-packages (from tensorboard<2.15,>=2.14->tensorflow-intel==2.14.0->tensorflow) (1.0.0)\n",
      "Requirement already satisfied: werkzeug>=1.0.1 in c:\\users\\user\\anaconda\\lib\\site-packages (from tensorboard<2.15,>=2.14->tensorflow-intel==2.14.0->tensorflow) (2.0.2)\n",
      "Requirement already satisfied: pyasn1-modules>=0.2.1 in c:\\users\\user\\anaconda\\lib\\site-packages (from google-auth<3,>=1.6.3->tensorboard<2.15,>=2.14->tensorflow-intel==2.14.0->tensorflow) (0.2.8)\n",
      "Requirement already satisfied: cachetools<6.0,>=2.0.0 in c:\\users\\user\\anaconda\\lib\\site-packages (from google-auth<3,>=1.6.3->tensorboard<2.15,>=2.14->tensorflow-intel==2.14.0->tensorflow) (5.3.0)\n",
      "Requirement already satisfied: rsa<5,>=3.1.4 in c:\\users\\user\\anaconda\\lib\\site-packages (from google-auth<3,>=1.6.3->tensorboard<2.15,>=2.14->tensorflow-intel==2.14.0->tensorflow) (4.9)\n",
      "Requirement already satisfied: requests-oauthlib>=0.7.0 in c:\\users\\user\\anaconda\\lib\\site-packages (from google-auth-oauthlib<1.1,>=0.5->tensorboard<2.15,>=2.14->tensorflow-intel==2.14.0->tensorflow) (1.3.1)\n",
      "Requirement already satisfied: importlib-metadata>=4.4 in c:\\users\\user\\anaconda\\lib\\site-packages (from markdown>=2.6.8->tensorboard<2.15,>=2.14->tensorflow-intel==2.14.0->tensorflow) (4.8.1)\n",
      "Requirement already satisfied: zipp>=0.5 in c:\\users\\user\\anaconda\\lib\\site-packages (from importlib-metadata>=4.4->markdown>=2.6.8->tensorboard<2.15,>=2.14->tensorflow-intel==2.14.0->tensorflow) (3.6.0)\n",
      "Requirement already satisfied: pyasn1<0.5.0,>=0.4.6 in c:\\users\\user\\anaconda\\lib\\site-packages (from pyasn1-modules>=0.2.1->google-auth<3,>=1.6.3->tensorboard<2.15,>=2.14->tensorflow-intel==2.14.0->tensorflow) (0.4.8)\n",
      "Requirement already satisfied: urllib3<1.27,>=1.21.1 in c:\\users\\user\\anaconda\\lib\\site-packages (from requests<3,>=2.21.0->tensorboard<2.15,>=2.14->tensorflow-intel==2.14.0->tensorflow) (1.26.7)\n",
      "Requirement already satisfied: certifi>=2017.4.17 in c:\\users\\user\\anaconda\\lib\\site-packages (from requests<3,>=2.21.0->tensorboard<2.15,>=2.14->tensorflow-intel==2.14.0->tensorflow) (2021.10.8)\n",
      "Requirement already satisfied: idna<4,>=2.5 in c:\\users\\user\\anaconda\\lib\\site-packages (from requests<3,>=2.21.0->tensorboard<2.15,>=2.14->tensorflow-intel==2.14.0->tensorflow) (3.2)\n",
      "Requirement already satisfied: charset-normalizer~=2.0.0 in c:\\users\\user\\anaconda\\lib\\site-packages (from requests<3,>=2.21.0->tensorboard<2.15,>=2.14->tensorflow-intel==2.14.0->tensorflow) (2.0.4)\n",
      "Requirement already satisfied: oauthlib>=3.0.0 in c:\\users\\user\\anaconda\\lib\\site-packages (from requests-oauthlib>=0.7.0->google-auth-oauthlib<1.1,>=0.5->tensorboard<2.15,>=2.14->tensorflow-intel==2.14.0->tensorflow) (3.2.2)\n",
      "Requirement already satisfied: pyparsing>=2.0.2 in c:\\users\\user\\anaconda\\lib\\site-packages (from packaging->tensorflow-intel==2.14.0->tensorflow) (3.0.4)\n",
      "\n"
     ]
    }
   ],
   "source": [
    "pip install tensorflow"
   ]
  },
  {
   "cell_type": "code",
   "execution_count": null,
   "id": "ad090e23",
   "metadata": {},
   "outputs": [],
   "source": []
  },
  {
   "cell_type": "code",
   "execution_count": 16,
   "id": "091e258f",
   "metadata": {},
   "outputs": [
    {
     "name": "stdout",
     "output_type": "stream",
     "text": [
      "Requirement already satisfied: numpy in c:\\users\\user\\anaconda\\lib\\site-packages (1.26.1)\n"
     ]
    }
   ],
   "source": [
    "!pip install --upgrade numpy\n"
   ]
  },
  {
   "cell_type": "code",
   "execution_count": 17,
   "id": "15f0361a",
   "metadata": {},
   "outputs": [
    {
     "name": "stderr",
     "output_type": "stream",
     "text": [
      "C:\\Users\\user\\anaconda\\lib\\site-packages\\scipy\\__init__.py:146: UserWarning: A NumPy version >=1.16.5 and <1.23.0 is required for this version of SciPy (detected version 1.26.1\n",
      "  warnings.warn(f\"A NumPy version >={np_minversion} and <{np_maxversion}\"\n"
     ]
    }
   ],
   "source": [
    "import keras\n"
   ]
  },
  {
   "cell_type": "code",
   "execution_count": 18,
   "id": "0d188853",
   "metadata": {},
   "outputs": [],
   "source": [
    "from keras.models import Sequential\n",
    "from keras.layers import Dense"
   ]
  },
  {
   "cell_type": "markdown",
   "id": "fe07f6ae",
   "metadata": {},
   "source": [
    "Building the Neural network network\n",
    "Define the function to help us build a regression model.\n",
    "\n"
   ]
  },
  {
   "cell_type": "markdown",
   "id": "63a90c22",
   "metadata": {},
   "source": []
  },
  {
   "cell_type": "markdown",
   "id": "fd3967ae",
   "metadata": {},
   "source": []
  },
  {
   "cell_type": "markdown",
   "id": "8ee09098",
   "metadata": {},
   "source": [
    "Let's define a function that defines our regression model for us so that we can conveniently call it to create our model."
   ]
  },
  {
   "cell_type": "code",
   "execution_count": null,
   "id": "7c5b4a01",
   "metadata": {},
   "outputs": [],
   "source": []
  },
  {
   "cell_type": "code",
   "execution_count": 32,
   "id": "7f9aaf65",
   "metadata": {},
   "outputs": [],
   "source": [
    "def regression_model():\n",
    "    #create model\n",
    "    model = Sequential()\n",
    "    model.add(Dense(100,activation = 'relu', input_shape =( n_cols,)))\n",
    "    model.add(Dense(80,activation = 'relu'))\n",
    "    model.add(Dense(1))\n",
    "    \n",
    "    #model compile\n",
    "    model.compile(optimizer='adam', loss='mean_squared_error', metrics=['accuracy'])\n",
    "    return model"
   ]
  },
  {
   "cell_type": "code",
   "execution_count": 33,
   "id": "0517a3cd",
   "metadata": {},
   "outputs": [],
   "source": [
    "#training and testing\n",
    "#build the model\n",
    "\n",
    "model = regression_model()"
   ]
  },
  {
   "cell_type": "code",
   "execution_count": 34,
   "id": "104fa132",
   "metadata": {},
   "outputs": [
    {
     "name": "stdout",
     "output_type": "stream",
     "text": [
      "Epoch 1/100\n",
      "23/23 - 2s - loss: 1643.8939 - accuracy: 0.0000e+00 - val_loss: 1116.3121 - val_accuracy: 0.0000e+00 - 2s/epoch - 73ms/step\n",
      "Epoch 2/100\n",
      "23/23 - 0s - loss: 1456.2776 - accuracy: 0.0000e+00 - val_loss: 916.7792 - val_accuracy: 0.0000e+00 - 138ms/epoch - 6ms/step\n",
      "Epoch 3/100\n",
      "23/23 - 0s - loss: 1117.9946 - accuracy: 0.0000e+00 - val_loss: 614.9415 - val_accuracy: 0.0000e+00 - 143ms/epoch - 6ms/step\n",
      "Epoch 4/100\n",
      "23/23 - 0s - loss: 652.3492 - accuracy: 0.0000e+00 - val_loss: 319.9524 - val_accuracy: 0.0000e+00 - 142ms/epoch - 6ms/step\n",
      "Epoch 5/100\n",
      "23/23 - 0s - loss: 308.0545 - accuracy: 0.0000e+00 - val_loss: 197.5997 - val_accuracy: 0.0000e+00 - 137ms/epoch - 6ms/step\n",
      "Epoch 6/100\n",
      "23/23 - 0s - loss: 228.2419 - accuracy: 0.0000e+00 - val_loss: 181.5924 - val_accuracy: 0.0000e+00 - 134ms/epoch - 6ms/step\n",
      "Epoch 7/100\n",
      "23/23 - 0s - loss: 206.6385 - accuracy: 0.0000e+00 - val_loss: 173.3954 - val_accuracy: 0.0000e+00 - 132ms/epoch - 6ms/step\n",
      "Epoch 8/100\n",
      "23/23 - 0s - loss: 194.7739 - accuracy: 0.0000e+00 - val_loss: 168.1669 - val_accuracy: 0.0000e+00 - 142ms/epoch - 6ms/step\n",
      "Epoch 9/100\n",
      "23/23 - 0s - loss: 185.4119 - accuracy: 0.0000e+00 - val_loss: 166.6097 - val_accuracy: 0.0000e+00 - 142ms/epoch - 6ms/step\n",
      "Epoch 10/100\n",
      "23/23 - 0s - loss: 178.3367 - accuracy: 0.0000e+00 - val_loss: 163.5698 - val_accuracy: 0.0000e+00 - 134ms/epoch - 6ms/step\n",
      "Epoch 11/100\n",
      "23/23 - 0s - loss: 173.8846 - accuracy: 0.0000e+00 - val_loss: 162.4959 - val_accuracy: 0.0000e+00 - 136ms/epoch - 6ms/step\n",
      "Epoch 12/100\n",
      "23/23 - 0s - loss: 168.6737 - accuracy: 0.0000e+00 - val_loss: 162.1160 - val_accuracy: 0.0000e+00 - 132ms/epoch - 6ms/step\n",
      "Epoch 13/100\n",
      "23/23 - 0s - loss: 165.1182 - accuracy: 0.0000e+00 - val_loss: 160.0531 - val_accuracy: 0.0000e+00 - 151ms/epoch - 7ms/step\n",
      "Epoch 14/100\n",
      "23/23 - 0s - loss: 161.2729 - accuracy: 0.0000e+00 - val_loss: 160.0193 - val_accuracy: 0.0000e+00 - 137ms/epoch - 6ms/step\n",
      "Epoch 15/100\n",
      "23/23 - 0s - loss: 158.1441 - accuracy: 0.0000e+00 - val_loss: 159.0907 - val_accuracy: 0.0000e+00 - 146ms/epoch - 6ms/step\n",
      "Epoch 16/100\n",
      "23/23 - 0s - loss: 155.5299 - accuracy: 0.0000e+00 - val_loss: 158.0303 - val_accuracy: 0.0000e+00 - 138ms/epoch - 6ms/step\n",
      "Epoch 17/100\n",
      "23/23 - 0s - loss: 153.0860 - accuracy: 0.0000e+00 - val_loss: 159.0032 - val_accuracy: 0.0000e+00 - 136ms/epoch - 6ms/step\n",
      "Epoch 18/100\n",
      "23/23 - 0s - loss: 150.2746 - accuracy: 0.0000e+00 - val_loss: 156.6360 - val_accuracy: 0.0000e+00 - 135ms/epoch - 6ms/step\n",
      "Epoch 19/100\n",
      "23/23 - 0s - loss: 148.0688 - accuracy: 0.0000e+00 - val_loss: 158.8456 - val_accuracy: 0.0000e+00 - 128ms/epoch - 6ms/step\n",
      "Epoch 20/100\n",
      "23/23 - 0s - loss: 146.1308 - accuracy: 0.0000e+00 - val_loss: 159.4278 - val_accuracy: 0.0000e+00 - 138ms/epoch - 6ms/step\n",
      "Epoch 21/100\n",
      "23/23 - 0s - loss: 144.1940 - accuracy: 0.0000e+00 - val_loss: 159.9849 - val_accuracy: 0.0000e+00 - 137ms/epoch - 6ms/step\n",
      "Epoch 22/100\n",
      "23/23 - 0s - loss: 143.2998 - accuracy: 0.0000e+00 - val_loss: 157.1434 - val_accuracy: 0.0000e+00 - 134ms/epoch - 6ms/step\n",
      "Epoch 23/100\n",
      "23/23 - 0s - loss: 141.0451 - accuracy: 0.0000e+00 - val_loss: 160.7883 - val_accuracy: 0.0000e+00 - 136ms/epoch - 6ms/step\n",
      "Epoch 24/100\n",
      "23/23 - 0s - loss: 139.4951 - accuracy: 0.0000e+00 - val_loss: 159.0610 - val_accuracy: 0.0000e+00 - 134ms/epoch - 6ms/step\n",
      "Epoch 25/100\n",
      "23/23 - 0s - loss: 137.1333 - accuracy: 0.0000e+00 - val_loss: 158.3718 - val_accuracy: 0.0000e+00 - 133ms/epoch - 6ms/step\n",
      "Epoch 26/100\n",
      "23/23 - 0s - loss: 136.0859 - accuracy: 0.0000e+00 - val_loss: 161.6508 - val_accuracy: 0.0000e+00 - 138ms/epoch - 6ms/step\n",
      "Epoch 27/100\n",
      "23/23 - 0s - loss: 134.1596 - accuracy: 0.0000e+00 - val_loss: 161.3178 - val_accuracy: 0.0000e+00 - 136ms/epoch - 6ms/step\n",
      "Epoch 28/100\n",
      "23/23 - 0s - loss: 132.4118 - accuracy: 0.0000e+00 - val_loss: 158.0484 - val_accuracy: 0.0000e+00 - 143ms/epoch - 6ms/step\n",
      "Epoch 29/100\n",
      "23/23 - 0s - loss: 131.1333 - accuracy: 0.0000e+00 - val_loss: 161.8775 - val_accuracy: 0.0000e+00 - 132ms/epoch - 6ms/step\n",
      "Epoch 30/100\n",
      "23/23 - 0s - loss: 128.8156 - accuracy: 0.0000e+00 - val_loss: 158.8371 - val_accuracy: 0.0000e+00 - 141ms/epoch - 6ms/step\n",
      "Epoch 31/100\n",
      "23/23 - 0s - loss: 127.6189 - accuracy: 0.0000e+00 - val_loss: 159.2178 - val_accuracy: 0.0000e+00 - 154ms/epoch - 7ms/step\n",
      "Epoch 32/100\n",
      "23/23 - 0s - loss: 125.6137 - accuracy: 0.0000e+00 - val_loss: 157.9296 - val_accuracy: 0.0000e+00 - 137ms/epoch - 6ms/step\n",
      "Epoch 33/100\n",
      "23/23 - 0s - loss: 123.9340 - accuracy: 0.0000e+00 - val_loss: 159.8076 - val_accuracy: 0.0000e+00 - 142ms/epoch - 6ms/step\n",
      "Epoch 34/100\n",
      "23/23 - 0s - loss: 123.0174 - accuracy: 0.0000e+00 - val_loss: 160.8862 - val_accuracy: 0.0000e+00 - 143ms/epoch - 6ms/step\n",
      "Epoch 35/100\n",
      "23/23 - 0s - loss: 120.6683 - accuracy: 0.0000e+00 - val_loss: 157.8315 - val_accuracy: 0.0000e+00 - 158ms/epoch - 7ms/step\n",
      "Epoch 36/100\n",
      "23/23 - 0s - loss: 120.3757 - accuracy: 0.0000e+00 - val_loss: 161.2079 - val_accuracy: 0.0000e+00 - 147ms/epoch - 6ms/step\n",
      "Epoch 37/100\n",
      "23/23 - 0s - loss: 117.8054 - accuracy: 0.0000e+00 - val_loss: 156.3625 - val_accuracy: 0.0000e+00 - 153ms/epoch - 7ms/step\n",
      "Epoch 38/100\n",
      "23/23 - 0s - loss: 114.7725 - accuracy: 0.0000e+00 - val_loss: 156.3391 - val_accuracy: 0.0000e+00 - 150ms/epoch - 7ms/step\n",
      "Epoch 39/100\n",
      "23/23 - 0s - loss: 112.7492 - accuracy: 0.0000e+00 - val_loss: 156.2105 - val_accuracy: 0.0000e+00 - 127ms/epoch - 6ms/step\n",
      "Epoch 40/100\n",
      "23/23 - 0s - loss: 111.1989 - accuracy: 0.0000e+00 - val_loss: 154.4342 - val_accuracy: 0.0000e+00 - 138ms/epoch - 6ms/step\n",
      "Epoch 41/100\n",
      "23/23 - 0s - loss: 108.3322 - accuracy: 0.0000e+00 - val_loss: 151.4575 - val_accuracy: 0.0000e+00 - 143ms/epoch - 6ms/step\n",
      "Epoch 42/100\n",
      "23/23 - 0s - loss: 105.5602 - accuracy: 0.0000e+00 - val_loss: 151.5485 - val_accuracy: 0.0000e+00 - 162ms/epoch - 7ms/step\n",
      "Epoch 43/100\n",
      "23/23 - 0s - loss: 103.4058 - accuracy: 0.0000e+00 - val_loss: 157.1436 - val_accuracy: 0.0000e+00 - 150ms/epoch - 7ms/step\n",
      "Epoch 44/100\n",
      "23/23 - 0s - loss: 99.9554 - accuracy: 0.0000e+00 - val_loss: 147.4852 - val_accuracy: 0.0000e+00 - 143ms/epoch - 6ms/step\n",
      "Epoch 45/100\n",
      "23/23 - 0s - loss: 96.7381 - accuracy: 0.0000e+00 - val_loss: 149.6638 - val_accuracy: 0.0000e+00 - 202ms/epoch - 9ms/step\n",
      "Epoch 46/100\n",
      "23/23 - 0s - loss: 93.2025 - accuracy: 0.0000e+00 - val_loss: 147.4281 - val_accuracy: 0.0000e+00 - 199ms/epoch - 9ms/step\n",
      "Epoch 47/100\n",
      "23/23 - 0s - loss: 88.6218 - accuracy: 0.0000e+00 - val_loss: 138.7888 - val_accuracy: 0.0000e+00 - 248ms/epoch - 11ms/step\n",
      "Epoch 48/100\n",
      "23/23 - 0s - loss: 84.5274 - accuracy: 0.0000e+00 - val_loss: 144.8581 - val_accuracy: 0.0000e+00 - 207ms/epoch - 9ms/step\n",
      "Epoch 49/100\n",
      "23/23 - 0s - loss: 80.8754 - accuracy: 0.0000e+00 - val_loss: 136.0850 - val_accuracy: 0.0000e+00 - 152ms/epoch - 7ms/step\n",
      "Epoch 50/100\n",
      "23/23 - 0s - loss: 76.0398 - accuracy: 0.0000e+00 - val_loss: 133.0931 - val_accuracy: 0.0000e+00 - 141ms/epoch - 6ms/step\n",
      "Epoch 51/100\n",
      "23/23 - 0s - loss: 71.7445 - accuracy: 0.0000e+00 - val_loss: 141.0672 - val_accuracy: 0.0000e+00 - 144ms/epoch - 6ms/step\n",
      "Epoch 52/100\n",
      "23/23 - 0s - loss: 68.3805 - accuracy: 0.0000e+00 - val_loss: 131.5411 - val_accuracy: 0.0000e+00 - 132ms/epoch - 6ms/step\n",
      "Epoch 53/100\n",
      "23/23 - 0s - loss: 64.7129 - accuracy: 0.0000e+00 - val_loss: 134.0150 - val_accuracy: 0.0000e+00 - 148ms/epoch - 6ms/step\n",
      "Epoch 54/100\n",
      "23/23 - 0s - loss: 61.5663 - accuracy: 0.0000e+00 - val_loss: 135.4403 - val_accuracy: 0.0000e+00 - 141ms/epoch - 6ms/step\n",
      "Epoch 55/100\n",
      "23/23 - 0s - loss: 58.9433 - accuracy: 0.0000e+00 - val_loss: 135.5306 - val_accuracy: 0.0000e+00 - 136ms/epoch - 6ms/step\n",
      "Epoch 56/100\n",
      "23/23 - 0s - loss: 56.0879 - accuracy: 0.0000e+00 - val_loss: 128.4896 - val_accuracy: 0.0000e+00 - 131ms/epoch - 6ms/step\n",
      "Epoch 57/100\n",
      "23/23 - 0s - loss: 54.1772 - accuracy: 0.0000e+00 - val_loss: 129.3046 - val_accuracy: 0.0000e+00 - 127ms/epoch - 6ms/step\n",
      "Epoch 58/100\n",
      "23/23 - 0s - loss: 52.2313 - accuracy: 0.0000e+00 - val_loss: 129.4742 - val_accuracy: 0.0000e+00 - 133ms/epoch - 6ms/step\n",
      "Epoch 59/100\n",
      "23/23 - 0s - loss: 49.9061 - accuracy: 0.0000e+00 - val_loss: 128.1111 - val_accuracy: 0.0000e+00 - 181ms/epoch - 8ms/step\n",
      "Epoch 60/100\n",
      "23/23 - 0s - loss: 49.1349 - accuracy: 0.0000e+00 - val_loss: 132.0514 - val_accuracy: 0.0000e+00 - 126ms/epoch - 5ms/step\n"
     ]
    },
    {
     "name": "stdout",
     "output_type": "stream",
     "text": [
      "Epoch 61/100\n",
      "23/23 - 0s - loss: 47.8887 - accuracy: 0.0000e+00 - val_loss: 126.6541 - val_accuracy: 0.0000e+00 - 135ms/epoch - 6ms/step\n",
      "Epoch 62/100\n",
      "23/23 - 0s - loss: 46.1593 - accuracy: 0.0000e+00 - val_loss: 133.5284 - val_accuracy: 0.0000e+00 - 138ms/epoch - 6ms/step\n",
      "Epoch 63/100\n",
      "23/23 - 0s - loss: 44.6788 - accuracy: 0.0000e+00 - val_loss: 135.4495 - val_accuracy: 0.0000e+00 - 134ms/epoch - 6ms/step\n",
      "Epoch 64/100\n",
      "23/23 - 0s - loss: 42.2425 - accuracy: 0.0000e+00 - val_loss: 120.7093 - val_accuracy: 0.0000e+00 - 141ms/epoch - 6ms/step\n",
      "Epoch 65/100\n",
      "23/23 - 0s - loss: 41.5733 - accuracy: 0.0000e+00 - val_loss: 123.6617 - val_accuracy: 0.0000e+00 - 125ms/epoch - 5ms/step\n",
      "Epoch 66/100\n",
      "23/23 - 0s - loss: 39.8754 - accuracy: 0.0000e+00 - val_loss: 124.3473 - val_accuracy: 0.0000e+00 - 135ms/epoch - 6ms/step\n",
      "Epoch 67/100\n",
      "23/23 - 0s - loss: 38.9057 - accuracy: 0.0000e+00 - val_loss: 139.1005 - val_accuracy: 0.0000e+00 - 138ms/epoch - 6ms/step\n",
      "Epoch 68/100\n",
      "23/23 - 0s - loss: 38.8074 - accuracy: 0.0000e+00 - val_loss: 119.2243 - val_accuracy: 0.0000e+00 - 130ms/epoch - 6ms/step\n",
      "Epoch 69/100\n",
      "23/23 - 0s - loss: 37.7742 - accuracy: 0.0000e+00 - val_loss: 144.2932 - val_accuracy: 0.0000e+00 - 133ms/epoch - 6ms/step\n",
      "Epoch 70/100\n",
      "23/23 - 0s - loss: 36.9799 - accuracy: 0.0000e+00 - val_loss: 132.1969 - val_accuracy: 0.0000e+00 - 200ms/epoch - 9ms/step\n",
      "Epoch 71/100\n",
      "23/23 - 0s - loss: 35.6933 - accuracy: 0.0000e+00 - val_loss: 122.9431 - val_accuracy: 0.0000e+00 - 145ms/epoch - 6ms/step\n",
      "Epoch 72/100\n",
      "23/23 - 0s - loss: 36.2040 - accuracy: 0.0000e+00 - val_loss: 129.2468 - val_accuracy: 0.0000e+00 - 131ms/epoch - 6ms/step\n",
      "Epoch 73/100\n",
      "23/23 - 0s - loss: 35.6586 - accuracy: 0.0000e+00 - val_loss: 134.4331 - val_accuracy: 0.0000e+00 - 129ms/epoch - 6ms/step\n",
      "Epoch 74/100\n",
      "23/23 - 0s - loss: 33.6932 - accuracy: 0.0000e+00 - val_loss: 136.7498 - val_accuracy: 0.0000e+00 - 131ms/epoch - 6ms/step\n",
      "Epoch 75/100\n",
      "23/23 - 0s - loss: 33.4907 - accuracy: 0.0000e+00 - val_loss: 125.3402 - val_accuracy: 0.0000e+00 - 125ms/epoch - 5ms/step\n",
      "Epoch 76/100\n",
      "23/23 - 0s - loss: 33.1503 - accuracy: 0.0000e+00 - val_loss: 142.8064 - val_accuracy: 0.0000e+00 - 135ms/epoch - 6ms/step\n",
      "Epoch 77/100\n",
      "23/23 - 0s - loss: 33.7491 - accuracy: 0.0000e+00 - val_loss: 140.5733 - val_accuracy: 0.0000e+00 - 129ms/epoch - 6ms/step\n",
      "Epoch 78/100\n",
      "23/23 - 0s - loss: 32.3722 - accuracy: 0.0000e+00 - val_loss: 136.1836 - val_accuracy: 0.0000e+00 - 135ms/epoch - 6ms/step\n",
      "Epoch 79/100\n",
      "23/23 - 0s - loss: 31.7556 - accuracy: 0.0000e+00 - val_loss: 144.0490 - val_accuracy: 0.0000e+00 - 152ms/epoch - 7ms/step\n",
      "Epoch 80/100\n",
      "23/23 - 0s - loss: 31.1177 - accuracy: 0.0000e+00 - val_loss: 132.1365 - val_accuracy: 0.0000e+00 - 147ms/epoch - 6ms/step\n",
      "Epoch 81/100\n",
      "23/23 - 0s - loss: 30.9003 - accuracy: 0.0000e+00 - val_loss: 143.8991 - val_accuracy: 0.0000e+00 - 141ms/epoch - 6ms/step\n",
      "Epoch 82/100\n",
      "23/23 - 0s - loss: 30.3979 - accuracy: 0.0000e+00 - val_loss: 137.7898 - val_accuracy: 0.0000e+00 - 152ms/epoch - 7ms/step\n",
      "Epoch 83/100\n",
      "23/23 - 0s - loss: 30.1196 - accuracy: 0.0000e+00 - val_loss: 132.8351 - val_accuracy: 0.0000e+00 - 163ms/epoch - 7ms/step\n",
      "Epoch 84/100\n",
      "23/23 - 0s - loss: 29.2129 - accuracy: 0.0000e+00 - val_loss: 137.5999 - val_accuracy: 0.0000e+00 - 153ms/epoch - 7ms/step\n",
      "Epoch 85/100\n",
      "23/23 - 0s - loss: 29.4095 - accuracy: 0.0000e+00 - val_loss: 143.9229 - val_accuracy: 0.0000e+00 - 129ms/epoch - 6ms/step\n",
      "Epoch 86/100\n",
      "23/23 - 0s - loss: 29.3612 - accuracy: 0.0000e+00 - val_loss: 134.6053 - val_accuracy: 0.0000e+00 - 130ms/epoch - 6ms/step\n",
      "Epoch 87/100\n",
      "23/23 - 0s - loss: 29.0282 - accuracy: 0.0000e+00 - val_loss: 134.5874 - val_accuracy: 0.0000e+00 - 132ms/epoch - 6ms/step\n",
      "Epoch 88/100\n",
      "23/23 - 0s - loss: 28.1431 - accuracy: 0.0000e+00 - val_loss: 129.9654 - val_accuracy: 0.0000e+00 - 133ms/epoch - 6ms/step\n",
      "Epoch 89/100\n",
      "23/23 - 0s - loss: 28.6334 - accuracy: 0.0000e+00 - val_loss: 128.3373 - val_accuracy: 0.0000e+00 - 122ms/epoch - 5ms/step\n",
      "Epoch 90/100\n",
      "23/23 - 0s - loss: 27.5540 - accuracy: 0.0000e+00 - val_loss: 139.8623 - val_accuracy: 0.0000e+00 - 136ms/epoch - 6ms/step\n",
      "Epoch 91/100\n",
      "23/23 - 0s - loss: 27.4816 - accuracy: 0.0000e+00 - val_loss: 147.1953 - val_accuracy: 0.0000e+00 - 128ms/epoch - 6ms/step\n",
      "Epoch 92/100\n",
      "23/23 - 0s - loss: 26.7650 - accuracy: 0.0000e+00 - val_loss: 135.3021 - val_accuracy: 0.0000e+00 - 131ms/epoch - 6ms/step\n",
      "Epoch 93/100\n",
      "23/23 - 0s - loss: 26.6863 - accuracy: 0.0000e+00 - val_loss: 137.8413 - val_accuracy: 0.0000e+00 - 128ms/epoch - 6ms/step\n",
      "Epoch 94/100\n",
      "23/23 - 0s - loss: 26.3320 - accuracy: 0.0000e+00 - val_loss: 125.6516 - val_accuracy: 0.0000e+00 - 128ms/epoch - 6ms/step\n",
      "Epoch 95/100\n",
      "23/23 - 0s - loss: 25.9998 - accuracy: 0.0000e+00 - val_loss: 138.8883 - val_accuracy: 0.0000e+00 - 124ms/epoch - 5ms/step\n",
      "Epoch 96/100\n",
      "23/23 - 0s - loss: 25.6021 - accuracy: 0.0000e+00 - val_loss: 139.1294 - val_accuracy: 0.0000e+00 - 128ms/epoch - 6ms/step\n",
      "Epoch 97/100\n",
      "23/23 - 0s - loss: 25.7730 - accuracy: 0.0000e+00 - val_loss: 131.3820 - val_accuracy: 0.0000e+00 - 130ms/epoch - 6ms/step\n",
      "Epoch 98/100\n",
      "23/23 - 0s - loss: 25.5126 - accuracy: 0.0000e+00 - val_loss: 140.7268 - val_accuracy: 0.0000e+00 - 135ms/epoch - 6ms/step\n",
      "Epoch 99/100\n",
      "23/23 - 0s - loss: 25.3372 - accuracy: 0.0000e+00 - val_loss: 142.1692 - val_accuracy: 0.0000e+00 - 136ms/epoch - 6ms/step\n",
      "Epoch 100/100\n",
      "23/23 - 0s - loss: 25.4879 - accuracy: 0.0000e+00 - val_loss: 134.9983 - val_accuracy: 0.0000e+00 - 125ms/epoch - 5ms/step\n"
     ]
    },
    {
     "data": {
      "text/plain": [
       "<keras.src.callbacks.History at 0x246f29b6d90>"
      ]
     },
     "execution_count": 34,
     "metadata": {},
     "output_type": "execute_result"
    }
   ],
   "source": [
    "#fit the model\n",
    "\n",
    "model.fit(predictors_norm,target,validation_split = 0.30, epochs = 100, verbose = 2)\n",
    "\n"
   ]
  },
  {
   "cell_type": "code",
   "execution_count": null,
   "id": "84b585c6",
   "metadata": {},
   "outputs": [],
   "source": []
  },
  {
   "cell_type": "code",
   "execution_count": 35,
   "id": "f81a0e38",
   "metadata": {},
   "outputs": [
    {
     "name": "stdout",
     "output_type": "stream",
     "text": [
      "33/33 [==============================] - 0s 3ms/step - loss: 56.9866 - accuracy: 0.0000e+00\n",
      "Training Loss: 56.986610412597656, Training Accuracy: 0.0\n"
     ]
    }
   ],
   "source": [
    "# Evaluate on the training data\n",
    "result = model.evaluate(predictors_norm, target)\n",
    "\n",
    "# Extract loss and accuracy if available\n",
    "if len(result) == 2:\n",
    "    train_loss, train_accuracy = result\n",
    "    print(f\"Training Loss: {train_loss}, Training Accuracy: {train_accuracy}\")\n",
    "else:\n",
    "    train_loss = result\n",
    "    print(f\"Training Loss: {train_loss}\")"
   ]
  },
  {
   "cell_type": "code",
   "execution_count": null,
   "id": "b82b2015",
   "metadata": {},
   "outputs": [],
   "source": []
  },
  {
   "cell_type": "code",
   "execution_count": null,
   "id": "114235b5",
   "metadata": {},
   "outputs": [],
   "source": []
  }
 ],
 "metadata": {
  "kernelspec": {
   "display_name": "Python 3 (ipykernel)",
   "language": "python",
   "name": "python3"
  },
  "language_info": {
   "codemirror_mode": {
    "name": "ipython",
    "version": 3
   },
   "file_extension": ".py",
   "mimetype": "text/x-python",
   "name": "python",
   "nbconvert_exporter": "python",
   "pygments_lexer": "ipython3",
   "version": "3.9.7"
  }
 },
 "nbformat": 4,
 "nbformat_minor": 5
}
